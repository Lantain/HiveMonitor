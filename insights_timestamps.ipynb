{
 "cells": [
  {
   "cell_type": "code",
   "execution_count": 1,
   "metadata": {},
   "outputs": [],
   "source": [
    "import pandas as pd\n",
    "from pandas import DataFrame\n",
    "import os\n",
    "import matplotlib.pyplot as plt\n",
    "import matplotlib.dates as mdates\n",
    "from datetime import datetime\n",
    "import events\n",
    "import visualise\n",
    "import dataset\n",
    "import timestamps\n",
    "from timestamps import BeeTimestamps\n",
    "\n",
    "data = BeeTimestamps(timestamps_file='timestamps-v4.json', dir='dataset/transformed_filled/interval_15m').get_stamps_with_event('swarming')\n",
    "data_e = enumerate(data)\n",
    "\n",
    "DIR = 'dataset/transformed_filled/interval_15m'"
   ]
  },
  {
   "cell_type": "code",
   "execution_count": 12,
   "metadata": {},
   "outputs": [
    {
     "ename": "StopIteration",
     "evalue": "",
     "output_type": "error",
     "traceback": [
      "\u001b[0;31m---------------------------------------------------------------------------\u001b[0m",
      "\u001b[0;31mStopIteration\u001b[0m                             Traceback (most recent call last)",
      "Cell \u001b[0;32mIn[12], line 1\u001b[0m\n\u001b[0;32m----> 1\u001b[0m i, stamp \u001b[38;5;241m=\u001b[39m data_e\u001b[38;5;241m.\u001b[39m\u001b[38;5;21m__next__\u001b[39m()\n\u001b[1;32m      2\u001b[0m \u001b[38;5;28mprint\u001b[39m(\u001b[38;5;124mf\u001b[39m\u001b[38;5;124m\"\u001b[39m\u001b[38;5;124m(\u001b[39m\u001b[38;5;132;01m{\u001b[39;00mi\u001b[38;5;132;01m}\u001b[39;00m\u001b[38;5;124m/\u001b[39m\u001b[38;5;132;01m{\u001b[39;00m\u001b[38;5;28mlen\u001b[39m(data)\u001b[38;5;250m \u001b[39m\u001b[38;5;241m-\u001b[39m\u001b[38;5;241m1\u001b[39m\u001b[38;5;132;01m}\u001b[39;00m\u001b[38;5;124m)\u001b[39m\u001b[38;5;130;01m\\t\u001b[39;00m\u001b[38;5;124mShowing file: \u001b[39m\u001b[38;5;132;01m{\u001b[39;00mstamp[\u001b[38;5;124m'\u001b[39m\u001b[38;5;124myear\u001b[39m\u001b[38;5;124m'\u001b[39m]\u001b[38;5;132;01m}\u001b[39;00m\u001b[38;5;124m_\u001b[39m\u001b[38;5;132;01m{\u001b[39;00mstamp[\u001b[38;5;124m'\u001b[39m\u001b[38;5;124mhive_number\u001b[39m\u001b[38;5;124m'\u001b[39m]\u001b[38;5;132;01m}\u001b[39;00m\u001b[38;5;124m\"\u001b[39m)\n\u001b[1;32m      4\u001b[0m from_day \u001b[38;5;241m=\u001b[39m pd\u001b[38;5;241m.\u001b[39mTimestamp(stamp[\u001b[38;5;124m'\u001b[39m\u001b[38;5;124mdate_from\u001b[39m\u001b[38;5;124m'\u001b[39m])\u001b[38;5;241m.\u001b[39mday\n",
      "\u001b[0;31mStopIteration\u001b[0m: "
     ]
    }
   ],
   "source": [
    "i, stamp = data_e.__next__()\n",
    "print(f\"({i}/{len(data) -1})\\tShowing file: {stamp['year']}_{stamp['hive_number']}\")\n",
    "\n",
    "from_day = pd.Timestamp(stamp['date_from']).day\n",
    "to_day = pd.Timestamp(stamp['date_to']).day\n",
    "from_month = pd.Timestamp(stamp['date_from']).month\n",
    "to_month = pd.Timestamp(stamp['date_to']).month\n",
    "\n",
    "file = f\"{stamp['year']}_{stamp['hive_number']}__{from_month}-{from_day}={to_month}-{to_day}.csv\"\n",
    "print(file + \"\\n\")\n",
    "\n",
    "df = dataset.read_dataset_file(os.path.join(DIR, file))\n",
    "df = df.infer_objects(copy=False)\n",
    "df[[stamp['ignore']]] = None\n",
    "start_date =  df.index.min()\n",
    "end_date = df.index.max()\n",
    "\n",
    "swarming_indexes = [pd.Timestamp(ts) for ts in stamp['swarming']]\n",
    "queencell_indexes = [pd.Timestamp(ts) for ts in stamp['queencell']]\n",
    "feeding_indexes = [pd.Timestamp(ts) for ts in stamp['feeding']]\n",
    "honey_indexes = [pd.Timestamp(ts) for ts in stamp['honey']]\n",
    "treatment_indexes = [pd.Timestamp(ts) for ts in stamp['treatment']]\n",
    "died_indexes = [pd.Timestamp(ts) for ts in stamp['died']]\n",
    "\n",
    "print (f'Swarming {len(swarming_indexes)}: {swarming_indexes}')\n",
    "print (f'Queencell {len(queencell_indexes)}: {queencell_indexes}')\n",
    "print (f'Feeding {len(feeding_indexes)}: {feeding_indexes}')\n",
    "print (f'Honey {len(honey_indexes)}: {honey_indexes}')\n",
    "print (f'Treatment {len(treatment_indexes)}: {treatment_indexes}')\n",
    "print (f'Died {len(died_indexes)}: {died_indexes}')\n",
    "print ('========================================')\n",
    "print(f\"{df.index.min()}  ---  {df.index.max()}\")\n",
    "print(f\"Comment: {stamp['comment']}\")\n",
    "\n",
    "visualise.visualise(df, start_date, end_date, file, {\n",
    "    'Swarming': swarming_indexes,\n",
    "    'Queencell': queencell_indexes,\n",
    "    'Feeding': feeding_indexes,\n",
    "    'Honey': honey_indexes,\n",
    "    'Treatment': treatment_indexes,\n",
    "    'Died': died_indexes\n",
    "})"
   ]
  }
 ],
 "metadata": {
  "kernelspec": {
   "display_name": "tf",
   "language": "python",
   "name": "python3"
  },
  "language_info": {
   "codemirror_mode": {
    "name": "ipython",
    "version": 3
   },
   "file_extension": ".py",
   "mimetype": "text/x-python",
   "name": "python",
   "nbconvert_exporter": "python",
   "pygments_lexer": "ipython3",
   "version": "3.12.4"
  }
 },
 "nbformat": 4,
 "nbformat_minor": 2
}
