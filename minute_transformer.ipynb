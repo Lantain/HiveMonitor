{
 "cells": [
  {
   "cell_type": "code",
   "execution_count": 1,
   "metadata": {},
   "outputs": [],
   "source": [
    "import pandas as pd\n",
    "from pandas import DataFrame\n",
    "import math\n",
    "import dataset\n",
    "import main\n",
    "import events\n",
    "import os\n",
    "import numpy as np\n",
    "\n",
    "MINUTES = 20\n",
    "SRC_DIR = 'dataset/bob_all_processed_mins'\n",
    "OUT_DIR = f'dataset/b_parsed_{MINUTES}m'\n",
    "os.makedirs(OUT_DIR, exist_ok=True)\n",
    "\n",
    "columns = [\n",
    "    'time',\n",
    "    'month',\n",
    "    'hour',\n",
    "    't_i_1',\n",
    "    't_i_2',\n",
    "    't_i_3',\n",
    "    't_i_4',\n",
    "    't_o',\n",
    "    'weight_kg',\n",
    "    'h',\n",
    "    't',\n",
    "    'p',\n",
    "    'queencell.next.dif',\n",
    "    'feeding.next.dif',\n",
    "    'honey.next.dif',\n",
    "    'treatment.next.dif',\n",
    "    'died.next.dif',\n",
    "    'swarming.next.dif',\n",
    "]\n",
    "\n",
    "files = os.scandir(SRC_DIR)"
   ]
  },
  {
   "cell_type": "code",
   "execution_count": 2,
   "metadata": {},
   "outputs": [
    {
     "name": "stdout",
     "output_type": "stream",
     "text": [
      "Processing 2019_62.csv\n",
      "Processing 2019_62.csv: QC: True F: False H: False T: True D: True S: True\n",
      "MI: 122420/122434\r"
     ]
    },
    {
     "name": "stderr",
     "output_type": "stream",
     "text": [
      "/Volumes/T7/PhD/HiveMonitor/dataset.py:33: FutureWarning: Setting an item of incompatible dtype is deprecated and will raise in a future error of pandas. Value '-0.0001604704411203854' has dtype incompatible with int64, please explicitly cast to a compatible dtype first.\n",
      "  df.at[i + offset, 'weight_delta_percent'] = perc_delta\n"
     ]
    },
    {
     "name": "stdout",
     "output_type": "stream",
     "text": [
      "Processing 2020_87.csv\n",
      "Processing 2020_87.csv: QC: False F: True H: False T: True D: True S: True\n",
      "MI: 59680/59692\r"
     ]
    },
    {
     "name": "stderr",
     "output_type": "stream",
     "text": [
      "/Volumes/T7/PhD/HiveMonitor/dataset.py:33: FutureWarning: Setting an item of incompatible dtype is deprecated and will raise in a future error of pandas. Value '-0.00035513665334311586' has dtype incompatible with int64, please explicitly cast to a compatible dtype first.\n",
      "  df.at[i + offset, 'weight_delta_percent'] = perc_delta\n"
     ]
    },
    {
     "name": "stdout",
     "output_type": "stream",
     "text": [
      "Processing 2020_57.csv\n",
      "Processing 2020_57.csv: QC: True F: True H: True T: True D: False S: True\n",
      "MI: 353880/353897\r"
     ]
    },
    {
     "name": "stderr",
     "output_type": "stream",
     "text": [
      "/Volumes/T7/PhD/HiveMonitor/dataset.py:33: FutureWarning: Setting an item of incompatible dtype is deprecated and will raise in a future error of pandas. Value '0.002041969900374364' has dtype incompatible with int64, please explicitly cast to a compatible dtype first.\n",
      "  df.at[i + offset, 'weight_delta_percent'] = perc_delta\n"
     ]
    },
    {
     "name": "stdout",
     "output_type": "stream",
     "text": [
      "Processing 2020_5.csv\n",
      "Skipping 2020_5.csv: Nothing there\n",
      "Processing 2019_6.csv\n",
      "Skipping 2019_6.csv: Nothing there\n",
      "Processing 2020_118.csv\n",
      "Processing 2020_118.csv: QC: True F: False H: True T: False D: True S: False\n",
      "MI: 260460/260471\r"
     ]
    },
    {
     "name": "stderr",
     "output_type": "stream",
     "text": [
      "/Volumes/T7/PhD/HiveMonitor/dataset.py:33: FutureWarning: Setting an item of incompatible dtype is deprecated and will raise in a future error of pandas. Value '-9.249816189536949e-05' has dtype incompatible with int64, please explicitly cast to a compatible dtype first.\n",
      "  df.at[i + offset, 'weight_delta_percent'] = perc_delta\n"
     ]
    },
    {
     "name": "stdout",
     "output_type": "stream",
     "text": [
      "Processing 2019_11.csv\n",
      "Processing 2019_11.csv: QC: True F: False H: True T: False D: True S: False\n",
      "MI: 25760/25769\r"
     ]
    },
    {
     "name": "stderr",
     "output_type": "stream",
     "text": [
      "/Volumes/T7/PhD/HiveMonitor/dataset.py:33: FutureWarning: Setting an item of incompatible dtype is deprecated and will raise in a future error of pandas. Value '-0.00015512167435154981' has dtype incompatible with int64, please explicitly cast to a compatible dtype first.\n",
      "  df.at[i + offset, 'weight_delta_percent'] = perc_delta\n"
     ]
    },
    {
     "name": "stdout",
     "output_type": "stream",
     "text": [
      "Processing 2020_100.csv\n",
      "Skipping 2020_100.csv: Nothing there\n",
      "Processing 2019_22.csv\n",
      "Skipping 2019_22.csv: Nothing there\n",
      "Processing 2020_26.csv\n",
      "Processing 2020_26.csv: QC: False F: False H: False T: False D: True S: False\n",
      "MI: 89800/89806\r"
     ]
    },
    {
     "name": "stderr",
     "output_type": "stream",
     "text": [
      "/Volumes/T7/PhD/HiveMonitor/dataset.py:33: FutureWarning: Setting an item of incompatible dtype is deprecated and will raise in a future error of pandas. Value '-5.594766741265807e-05' has dtype incompatible with int64, please explicitly cast to a compatible dtype first.\n",
      "  df.at[i + offset, 'weight_delta_percent'] = perc_delta\n"
     ]
    },
    {
     "name": "stdout",
     "output_type": "stream",
     "text": [
      "Processing 2019_25.csv\n",
      "Skipping 2019_25.csv: Nothing there\n",
      "Processing 2020_56.csv\n",
      "Skipping 2020_56.csv: Nothing there\n",
      "Processing 2019_26.csv\n",
      "Processing 2019_26.csv: QC: False F: False H: False T: False D: True S: False\n",
      "MI: 108420/108437\r"
     ]
    },
    {
     "name": "stderr",
     "output_type": "stream",
     "text": [
      "/Volumes/T7/PhD/HiveMonitor/dataset.py:33: FutureWarning: Setting an item of incompatible dtype is deprecated and will raise in a future error of pandas. Value '-6.574881255127822e-05' has dtype incompatible with int64, please explicitly cast to a compatible dtype first.\n",
      "  df.at[i + offset, 'weight_delta_percent'] = perc_delta\n"
     ]
    },
    {
     "name": "stdout",
     "output_type": "stream",
     "text": [
      "Processing 2020_79.csv\n",
      "Processing 2020_79.csv: QC: True F: False H: True T: False D: True S: False\n",
      "MI: 272920/272937\r"
     ]
    },
    {
     "name": "stderr",
     "output_type": "stream",
     "text": [
      "/Volumes/T7/PhD/HiveMonitor/dataset.py:33: FutureWarning: Setting an item of incompatible dtype is deprecated and will raise in a future error of pandas. Value '0.023045200342969734' has dtype incompatible with int64, please explicitly cast to a compatible dtype first.\n",
      "  df.at[i + offset, 'weight_delta_percent'] = perc_delta\n",
      "/Volumes/T7/PhD/HiveMonitor/dataset.py:73: RuntimeWarning: invalid value encountered in scalar divide\n",
      "  perc_delta = (curr['t_i_1'] - prev['t_i_1']) / prev['t_i_1']\n",
      "/Volumes/T7/PhD/HiveMonitor/dataset.py:73: RuntimeWarning: divide by zero encountered in scalar divide\n",
      "  perc_delta = (curr['t_i_1'] - prev['t_i_1']) / prev['t_i_1']\n"
     ]
    },
    {
     "name": "stdout",
     "output_type": "stream",
     "text": [
      "Processing 2019_27.csv\n",
      "Processing 2019_27.csv: QC: True F: False H: True T: False D: True S: True\n",
      "MI: 90940/90958\r"
     ]
    },
    {
     "name": "stderr",
     "output_type": "stream",
     "text": [
      "/Volumes/T7/PhD/HiveMonitor/dataset.py:33: FutureWarning: Setting an item of incompatible dtype is deprecated and will raise in a future error of pandas. Value '0.00019323379597015896' has dtype incompatible with int64, please explicitly cast to a compatible dtype first.\n",
      "  df.at[i + offset, 'weight_delta_percent'] = perc_delta\n"
     ]
    },
    {
     "name": "stdout",
     "output_type": "stream",
     "text": [
      "Processing 2020_49.csv\n",
      "Processing 2020_49.csv: QC: True F: True H: False T: True D: True S: True\n",
      "MI: 486440/486444\r"
     ]
    },
    {
     "name": "stderr",
     "output_type": "stream",
     "text": [
      "/Volumes/T7/PhD/HiveMonitor/dataset.py:33: FutureWarning: Setting an item of incompatible dtype is deprecated and will raise in a future error of pandas. Value '-1.5836738267313194e-05' has dtype incompatible with int64, please explicitly cast to a compatible dtype first.\n",
      "  df.at[i + offset, 'weight_delta_percent'] = perc_delta\n"
     ]
    },
    {
     "name": "stdout",
     "output_type": "stream",
     "text": [
      "Processing 2019_43.csv\n",
      "Processing 2019_43.csv: QC: True F: True H: True T: True D: False S: True\n",
      "MI: 85560/85562\r"
     ]
    },
    {
     "name": "stderr",
     "output_type": "stream",
     "text": [
      "/Volumes/T7/PhD/HiveMonitor/dataset.py:33: FutureWarning: Setting an item of incompatible dtype is deprecated and will raise in a future error of pandas. Value '-0.00023051898493448898' has dtype incompatible with int64, please explicitly cast to a compatible dtype first.\n",
      "  df.at[i + offset, 'weight_delta_percent'] = perc_delta\n"
     ]
    },
    {
     "name": "stdout",
     "output_type": "stream",
     "text": [
      "Processing 2020_93.csv\n",
      "Skipping 2020_93.csv: Nothing there\n",
      "Processing 2019_46.csv\n",
      "Skipping 2019_46.csv: Nothing there\n",
      "Processing 2020_104.csv\n",
      "Skipping 2020_104.csv: Nothing there\n",
      "Processing 2019_48.csv\n",
      "Processing 2019_48.csv: QC: True F: False H: True T: False D: False S: False\n",
      "MI: 98880/98885\r"
     ]
    },
    {
     "name": "stderr",
     "output_type": "stream",
     "text": [
      "/Volumes/T7/PhD/HiveMonitor/dataset.py:33: FutureWarning: Setting an item of incompatible dtype is deprecated and will raise in a future error of pandas. Value '-0.0009388375653003956' has dtype incompatible with int64, please explicitly cast to a compatible dtype first.\n",
      "  df.at[i + offset, 'weight_delta_percent'] = perc_delta\n"
     ]
    },
    {
     "name": "stdout",
     "output_type": "stream",
     "text": [
      "Processing 2020_111.csv\n",
      "Processing 2020_111.csv: QC: False F: False H: False T: False D: True S: True\n",
      "MI: 396020/396028\r"
     ]
    },
    {
     "name": "stderr",
     "output_type": "stream",
     "text": [
      "/Volumes/T7/PhD/HiveMonitor/dataset.py:33: FutureWarning: Setting an item of incompatible dtype is deprecated and will raise in a future error of pandas. Value '66.66249999999998' has dtype incompatible with int64, please explicitly cast to a compatible dtype first.\n",
      "  df.at[i + offset, 'weight_delta_percent'] = perc_delta\n",
      "/Volumes/T7/PhD/HiveMonitor/dataset.py:73: RuntimeWarning: divide by zero encountered in scalar divide\n",
      "  perc_delta = (curr['t_i_1'] - prev['t_i_1']) / prev['t_i_1']\n"
     ]
    },
    {
     "name": "stdout",
     "output_type": "stream",
     "text": [
      "Processing 2019_49.csv\n",
      "Processing 2019_49.csv: QC: True F: False H: False T: True D: True S: True\n",
      "MI: 159460/159466\r"
     ]
    },
    {
     "name": "stderr",
     "output_type": "stream",
     "text": [
      "/Volumes/T7/PhD/HiveMonitor/dataset.py:33: FutureWarning: Setting an item of incompatible dtype is deprecated and will raise in a future error of pandas. Value '-4.282205349005431e-05' has dtype incompatible with int64, please explicitly cast to a compatible dtype first.\n",
      "  df.at[i + offset, 'weight_delta_percent'] = perc_delta\n"
     ]
    },
    {
     "name": "stdout",
     "output_type": "stream",
     "text": [
      "Processing 2020_62.csv\n",
      "Skipping 2020_62.csv: Nothing there\n",
      "Processing 2019_56.csv\n",
      "Processing 2019_56.csv: QC: True F: False H: True T: True D: True S: True\n",
      "MI: 34620/34635\r"
     ]
    },
    {
     "name": "stderr",
     "output_type": "stream",
     "text": [
      "/Volumes/T7/PhD/HiveMonitor/dataset.py:33: FutureWarning: Setting an item of incompatible dtype is deprecated and will raise in a future error of pandas. Value '-0.00019497921699780692' has dtype incompatible with int64, please explicitly cast to a compatible dtype first.\n",
      "  df.at[i + offset, 'weight_delta_percent'] = perc_delta\n"
     ]
    },
    {
     "name": "stdout",
     "output_type": "stream",
     "text": [
      "Processing 2020_85.csv\n",
      "Processing 2020_85.csv: QC: False F: True H: False T: True D: True S: True\n",
      "MI: 298540/298549\r"
     ]
    },
    {
     "name": "stderr",
     "output_type": "stream",
     "text": [
      "/Volumes/T7/PhD/HiveMonitor/dataset.py:33: FutureWarning: Setting an item of incompatible dtype is deprecated and will raise in a future error of pandas. Value '-4.962888852707935e-05' has dtype incompatible with int64, please explicitly cast to a compatible dtype first.\n",
      "  df.at[i + offset, 'weight_delta_percent'] = perc_delta\n",
      "/Volumes/T7/PhD/HiveMonitor/dataset.py:73: RuntimeWarning: invalid value encountered in scalar divide\n",
      "  perc_delta = (curr['t_i_1'] - prev['t_i_1']) / prev['t_i_1']\n",
      "/Volumes/T7/PhD/HiveMonitor/dataset.py:73: RuntimeWarning: divide by zero encountered in scalar divide\n",
      "  perc_delta = (curr['t_i_1'] - prev['t_i_1']) / prev['t_i_1']\n",
      "/Volumes/T7/PhD/HiveMonitor/dataset.py:19: RuntimeWarning: invalid value encountered in scalar divide\n",
      "  perc_deltaDI = (curr[column] - prevDI[column]) / prevDI[column]\n",
      "/Volumes/T7/PhD/HiveMonitor/dataset.py:19: RuntimeWarning: divide by zero encountered in scalar divide\n",
      "  perc_deltaDI = (curr[column] - prevDI[column]) / prevDI[column]\n"
     ]
    },
    {
     "name": "stdout",
     "output_type": "stream",
     "text": [
      "Processing 2019_58.csv\n",
      "Processing 2019_58.csv: QC: True F: False H: False T: False D: True S: True\n",
      "MI: 65680/65692\r"
     ]
    },
    {
     "name": "stderr",
     "output_type": "stream",
     "text": [
      "/Volumes/T7/PhD/HiveMonitor/dataset.py:33: FutureWarning: Setting an item of incompatible dtype is deprecated and will raise in a future error of pandas. Value '0.07060501153414701' has dtype incompatible with int64, please explicitly cast to a compatible dtype first.\n",
      "  df.at[i + offset, 'weight_delta_percent'] = perc_delta\n"
     ]
    },
    {
     "name": "stdout",
     "output_type": "stream",
     "text": [
      "Processing 2019_5.csv\n",
      "Processing 2019_5.csv: QC: True F: False H: True T: True D: True S: True\n",
      "MI: 51140/51148\r"
     ]
    },
    {
     "name": "stderr",
     "output_type": "stream",
     "text": [
      "/Volumes/T7/PhD/HiveMonitor/dataset.py:33: FutureWarning: Setting an item of incompatible dtype is deprecated and will raise in a future error of pandas. Value '-0.0008584638148251444' has dtype incompatible with int64, please explicitly cast to a compatible dtype first.\n",
      "  df.at[i + offset, 'weight_delta_percent'] = perc_delta\n"
     ]
    },
    {
     "name": "stdout",
     "output_type": "stream",
     "text": [
      "Processing 2020_115.csv\n",
      "Skipping 2020_115.csv: Nothing there\n",
      "Processing 2020_78.csv\n",
      "Skipping 2020_78.csv: Nothing there\n",
      "Processing 2020_48.csv\n",
      "Processing 2020_48.csv: QC: True F: False H: True T: False D: False S: False\n",
      "MI: 158400/158419\r"
     ]
    },
    {
     "name": "stderr",
     "output_type": "stream",
     "text": [
      "/Volumes/T7/PhD/HiveMonitor/dataset.py:33: FutureWarning: Setting an item of incompatible dtype is deprecated and will raise in a future error of pandas. Value '3.0838118097331155e-05' has dtype incompatible with int64, please explicitly cast to a compatible dtype first.\n",
      "  df.at[i + offset, 'weight_delta_percent'] = perc_delta\n"
     ]
    },
    {
     "name": "stdout",
     "output_type": "stream",
     "text": [
      "Processing 2020_119.csv\n",
      "Processing 2020_119.csv: QC: True F: False H: True T: False D: True S: False\n",
      "MI: 221660/221680\r"
     ]
    },
    {
     "name": "stderr",
     "output_type": "stream",
     "text": [
      "/Volumes/T7/PhD/HiveMonitor/dataset.py:33: FutureWarning: Setting an item of incompatible dtype is deprecated and will raise in a future error of pandas. Value '-0.00014148169925045796' has dtype incompatible with int64, please explicitly cast to a compatible dtype first.\n",
      "  df.at[i + offset, 'weight_delta_percent'] = perc_delta\n"
     ]
    },
    {
     "name": "stdout",
     "output_type": "stream",
     "text": [
      "Processing 2020_17.csv\n",
      "Processing 2020_17.csv: QC: False F: False H: False T: True D: True S: False\n",
      "MI: 164760/164775\r"
     ]
    },
    {
     "name": "stderr",
     "output_type": "stream",
     "text": [
      "/Volumes/T7/PhD/HiveMonitor/dataset.py:33: FutureWarning: Setting an item of incompatible dtype is deprecated and will raise in a future error of pandas. Value '-0.00010108715040464255' has dtype incompatible with int64, please explicitly cast to a compatible dtype first.\n",
      "  df.at[i + offset, 'weight_delta_percent'] = perc_delta\n",
      "/Volumes/T7/PhD/HiveMonitor/dataset.py:73: RuntimeWarning: invalid value encountered in scalar divide\n",
      "  perc_delta = (curr['t_i_1'] - prev['t_i_1']) / prev['t_i_1']\n",
      "/Volumes/T7/PhD/HiveMonitor/dataset.py:73: RuntimeWarning: divide by zero encountered in scalar divide\n",
      "  perc_delta = (curr['t_i_1'] - prev['t_i_1']) / prev['t_i_1']\n"
     ]
    },
    {
     "name": "stdout",
     "output_type": "stream",
     "text": [
      "Processing 2020_47.csv\n",
      "Skipping 2020_47.csv: Nothing there\n",
      "Processing 2020_84.csv\n",
      "Skipping 2020_84.csv: Nothing there\n",
      "Processing 2020_77.csv\n",
      "Skipping 2020_77.csv: Nothing there\n",
      "Processing 2020_101.csv\n",
      "Processing 2020_101.csv: QC: False F: True H: True T: True D: True S: False\n",
      "MI: 248840/248856\r"
     ]
    },
    {
     "name": "stderr",
     "output_type": "stream",
     "text": [
      "/Volumes/T7/PhD/HiveMonitor/dataset.py:33: FutureWarning: Setting an item of incompatible dtype is deprecated and will raise in a future error of pandas. Value '-9.332711150247125e-07' has dtype incompatible with int64, please explicitly cast to a compatible dtype first.\n",
      "  df.at[i + offset, 'weight_delta_percent'] = perc_delta\n"
     ]
    },
    {
     "name": "stdout",
     "output_type": "stream",
     "text": [
      "Processing 2020_105.csv\n",
      "Processing 2020_105.csv: QC: True F: True H: True T: False D: False S: False\n",
      "MI: 272480/272485\r"
     ]
    },
    {
     "name": "stderr",
     "output_type": "stream",
     "text": [
      "/Volumes/T7/PhD/HiveMonitor/dataset.py:33: FutureWarning: Setting an item of incompatible dtype is deprecated and will raise in a future error of pandas. Value '-6.694029982217405e-05' has dtype incompatible with int64, please explicitly cast to a compatible dtype first.\n",
      "  df.at[i + offset, 'weight_delta_percent'] = perc_delta\n"
     ]
    },
    {
     "name": "stdout",
     "output_type": "stream",
     "text": [
      "Processing 2020_60.csv\n",
      "Processing 2020_60.csv: QC: True F: True H: False T: True D: True S: True\n",
      "MI: 336820/336823\r"
     ]
    },
    {
     "name": "stderr",
     "output_type": "stream",
     "text": [
      "/Volumes/T7/PhD/HiveMonitor/dataset.py:33: FutureWarning: Setting an item of incompatible dtype is deprecated and will raise in a future error of pandas. Value '-0.000259814699967997' has dtype incompatible with int64, please explicitly cast to a compatible dtype first.\n",
      "  df.at[i + offset, 'weight_delta_percent'] = perc_delta\n"
     ]
    },
    {
     "name": "stdout",
     "output_type": "stream",
     "text": [
      "Processing 2020_90.csv\n",
      "Processing 2020_90.csv: QC: True F: False H: False T: False D: True S: True\n",
      "MI: 191980/191986\r"
     ]
    },
    {
     "name": "stderr",
     "output_type": "stream",
     "text": [
      "/Volumes/T7/PhD/HiveMonitor/dataset.py:33: FutureWarning: Setting an item of incompatible dtype is deprecated and will raise in a future error of pandas. Value '-0.00011767809053015787' has dtype incompatible with int64, please explicitly cast to a compatible dtype first.\n",
      "  df.at[i + offset, 'weight_delta_percent'] = perc_delta\n"
     ]
    },
    {
     "name": "stdout",
     "output_type": "stream",
     "text": [
      "Processing 2020_76.csv\n",
      "Processing 2020_76.csv: QC: False F: True H: False T: True D: True S: False\n",
      "MI: 278420/278428\r"
     ]
    },
    {
     "name": "stderr",
     "output_type": "stream",
     "text": [
      "/Volumes/T7/PhD/HiveMonitor/dataset.py:33: FutureWarning: Setting an item of incompatible dtype is deprecated and will raise in a future error of pandas. Value '0.0013091828764831789' has dtype incompatible with int64, please explicitly cast to a compatible dtype first.\n",
      "  df.at[i + offset, 'weight_delta_percent'] = perc_delta\n"
     ]
    },
    {
     "name": "stdout",
     "output_type": "stream",
     "text": [
      "Processing 2020_69.csv\n",
      "Processing 2020_69.csv: QC: False F: False H: False T: True D: True S: False\n",
      "MI: 188900/188919\r"
     ]
    },
    {
     "name": "stderr",
     "output_type": "stream",
     "text": [
      "/Volumes/T7/PhD/HiveMonitor/dataset.py:33: FutureWarning: Setting an item of incompatible dtype is deprecated and will raise in a future error of pandas. Value '-0.00014733200948037874' has dtype incompatible with int64, please explicitly cast to a compatible dtype first.\n",
      "  df.at[i + offset, 'weight_delta_percent'] = perc_delta\n"
     ]
    },
    {
     "name": "stdout",
     "output_type": "stream",
     "text": [
      "Processing 2020_112.csv\n",
      "Processing 2020_112.csv: QC: False F: False H: False T: True D: False S: False\n",
      "MI: 392140/392151\r"
     ]
    },
    {
     "name": "stderr",
     "output_type": "stream",
     "text": [
      "/Volumes/T7/PhD/HiveMonitor/dataset.py:33: FutureWarning: Setting an item of incompatible dtype is deprecated and will raise in a future error of pandas. Value '0.0034880497720830854' has dtype incompatible with int64, please explicitly cast to a compatible dtype first.\n",
      "  df.at[i + offset, 'weight_delta_percent'] = perc_delta\n"
     ]
    },
    {
     "name": "stdout",
     "output_type": "stream",
     "text": [
      "Processing 2020_109.csv\n",
      "Processing 2020_109.csv: QC: False F: False H: False T: False D: True S: True\n",
      "MI: 317540/317554\r"
     ]
    },
    {
     "name": "stderr",
     "output_type": "stream",
     "text": [
      "/Volumes/T7/PhD/HiveMonitor/dataset.py:33: FutureWarning: Setting an item of incompatible dtype is deprecated and will raise in a future error of pandas. Value '0.0465931419154466' has dtype incompatible with int64, please explicitly cast to a compatible dtype first.\n",
      "  df.at[i + offset, 'weight_delta_percent'] = perc_delta\n"
     ]
    },
    {
     "name": "stdout",
     "output_type": "stream",
     "text": [
      "Processing 2020_0.csv\n",
      "Skipping 2020_0.csv: Nothing there\n",
      "Processing 2020_123.csv\n",
      "Processing 2020_123.csv: QC: False F: False H: True T: False D: True S: False\n",
      "MI: 272500/272506\r"
     ]
    },
    {
     "name": "stderr",
     "output_type": "stream",
     "text": [
      "/Volumes/T7/PhD/HiveMonitor/dataset.py:33: FutureWarning: Setting an item of incompatible dtype is deprecated and will raise in a future error of pandas. Value '2501.3222222222225' has dtype incompatible with int64, please explicitly cast to a compatible dtype first.\n",
      "  df.at[i + offset, 'weight_delta_percent'] = perc_delta\n",
      "/Volumes/T7/PhD/HiveMonitor/dataset.py:73: RuntimeWarning: divide by zero encountered in scalar divide\n",
      "  perc_delta = (curr['t_i_1'] - prev['t_i_1']) / prev['t_i_1']\n"
     ]
    },
    {
     "name": "stdout",
     "output_type": "stream",
     "text": [
      "Processing 2020_75.csv\n",
      "Skipping 2020_75.csv: Nothing there\n",
      "Processing 2020_98.csv\n",
      "Skipping 2020_98.csv: Nothing there\n",
      "Processing 2020_68.csv\n",
      "Skipping 2020_68.csv: Nothing there\n",
      "Processing 2020_3.csv\n",
      "Skipping 2020_3.csv: Nothing there\n",
      "Processing 2020_102.csv\n",
      "Skipping 2020_102.csv: Nothing there\n",
      "Processing 2020_21.csv\n",
      "Processing 2020_21.csv: QC: False F: False H: False T: True D: True S: True\n",
      "MI: 351200/351216\r"
     ]
    },
    {
     "name": "stderr",
     "output_type": "stream",
     "text": [
      "/Volumes/T7/PhD/HiveMonitor/dataset.py:33: FutureWarning: Setting an item of incompatible dtype is deprecated and will raise in a future error of pandas. Value '0.00015485521301820555' has dtype incompatible with int64, please explicitly cast to a compatible dtype first.\n",
      "  df.at[i + offset, 'weight_delta_percent'] = perc_delta\n"
     ]
    },
    {
     "name": "stdout",
     "output_type": "stream",
     "text": [
      "Processing 2020_74.csv\n",
      "Skipping 2020_74.csv: Nothing there\n",
      "Processing 2020_97.csv\n",
      "Processing 2020_97.csv: QC: True F: False H: True T: False D: True S: False\n",
      "MI: 287920/287939\r"
     ]
    },
    {
     "name": "stderr",
     "output_type": "stream",
     "text": [
      "/Volumes/T7/PhD/HiveMonitor/dataset.py:33: FutureWarning: Setting an item of incompatible dtype is deprecated and will raise in a future error of pandas. Value '9.842737386931535e-05' has dtype incompatible with int64, please explicitly cast to a compatible dtype first.\n",
      "  df.at[i + offset, 'weight_delta_percent'] = perc_delta\n"
     ]
    },
    {
     "name": "stdout",
     "output_type": "stream",
     "text": [
      "Processing 2020_67.csv\n",
      "Skipping 2020_67.csv: Nothing there\n",
      "Processing 2020_120.csv\n",
      "Skipping 2020_120.csv: Nothing there\n",
      "Processing 2020_43.csv\n",
      "Skipping 2020_43.csv: Nothing there\n",
      "Processing 2020_80.csv\n",
      "Processing 2020_80.csv: QC: True F: False H: True T: True D: True S: True\n",
      "MI: 152420/152428\r"
     ]
    },
    {
     "name": "stderr",
     "output_type": "stream",
     "text": [
      "/Volumes/T7/PhD/HiveMonitor/dataset.py:33: FutureWarning: Setting an item of incompatible dtype is deprecated and will raise in a future error of pandas. Value '0.00017272215008468683' has dtype incompatible with int64, please explicitly cast to a compatible dtype first.\n",
      "  df.at[i + offset, 'weight_delta_percent'] = perc_delta\n"
     ]
    },
    {
     "name": "stdout",
     "output_type": "stream",
     "text": [
      "Processing 2020_73.csv\n",
      "Skipping 2020_73.csv: Nothing there\n",
      "Processing 2020_96.csv\n",
      "Processing 2020_96.csv: QC: True F: True H: False T: True D: True S: True\n",
      "MI: 177880/177895\r"
     ]
    },
    {
     "name": "stderr",
     "output_type": "stream",
     "text": [
      "/Volumes/T7/PhD/HiveMonitor/dataset.py:33: FutureWarning: Setting an item of incompatible dtype is deprecated and will raise in a future error of pandas. Value '0.002458530805687095' has dtype incompatible with int64, please explicitly cast to a compatible dtype first.\n",
      "  df.at[i + offset, 'weight_delta_percent'] = perc_delta\n"
     ]
    },
    {
     "name": "stdout",
     "output_type": "stream",
     "text": [
      "Processing 2020_66.csv\n",
      "Processing 2020_66.csv: QC: True F: False H: False T: True D: True S: True\n",
      "MI: 5480/5481\r"
     ]
    },
    {
     "name": "stderr",
     "output_type": "stream",
     "text": [
      "/Volumes/T7/PhD/HiveMonitor/dataset.py:33: FutureWarning: Setting an item of incompatible dtype is deprecated and will raise in a future error of pandas. Value '-0.0005570540635627523' has dtype incompatible with int64, please explicitly cast to a compatible dtype first.\n",
      "  df.at[i + offset, 'weight_delta_percent'] = perc_delta\n"
     ]
    },
    {
     "name": "stdout",
     "output_type": "stream",
     "text": [
      "Processing 2020_36.csv\n",
      "Processing 2020_36.csv: QC: True F: False H: True T: False D: True S: False\n",
      "MI: 266720/266722\r"
     ]
    },
    {
     "name": "stderr",
     "output_type": "stream",
     "text": [
      "/Volumes/T7/PhD/HiveMonitor/dataset.py:33: FutureWarning: Setting an item of incompatible dtype is deprecated and will raise in a future error of pandas. Value '-1.4030492938007906e-05' has dtype incompatible with int64, please explicitly cast to a compatible dtype first.\n",
      "  df.at[i + offset, 'weight_delta_percent'] = perc_delta\n"
     ]
    },
    {
     "name": "stdout",
     "output_type": "stream",
     "text": [
      "Processing 2020_89.csv\n",
      "Skipping 2020_89.csv: Nothing there\n",
      "Processing 2020_128.csv\n",
      "Processing 2020_128.csv: QC: True F: True H: True T: True D: True S: False\n",
      "MI: 307820/307839\r"
     ]
    },
    {
     "name": "stderr",
     "output_type": "stream",
     "text": [
      "/Volumes/T7/PhD/HiveMonitor/dataset.py:33: FutureWarning: Setting an item of incompatible dtype is deprecated and will raise in a future error of pandas. Value '0.003932793847566635' has dtype incompatible with int64, please explicitly cast to a compatible dtype first.\n",
      "  df.at[i + offset, 'weight_delta_percent'] = perc_delta\n"
     ]
    },
    {
     "name": "stdout",
     "output_type": "stream",
     "text": [
      "Processing 2020_58.csv\n",
      "Processing 2020_58.csv: QC: True F: False H: False T: False D: True S: True\n",
      "MI: 262960/262962\r"
     ]
    },
    {
     "name": "stderr",
     "output_type": "stream",
     "text": [
      "/Volumes/T7/PhD/HiveMonitor/dataset.py:33: FutureWarning: Setting an item of incompatible dtype is deprecated and will raise in a future error of pandas. Value '6.7002367417169355e-06' has dtype incompatible with int64, please explicitly cast to a compatible dtype first.\n",
      "  df.at[i + offset, 'weight_delta_percent'] = perc_delta\n"
     ]
    },
    {
     "name": "stdout",
     "output_type": "stream",
     "text": [
      "Processing 2020_95.csv\n",
      "Skipping 2020_95.csv: Nothing there\n",
      "Processing 2020_103.csv\n",
      "Skipping 2020_103.csv: Nothing there\n",
      "Processing 2020_72.csv\n",
      "Processing 2020_72.csv: QC: False F: False H: False T: False D: False S: True\n",
      "MI: 191180/191184\r"
     ]
    },
    {
     "name": "stderr",
     "output_type": "stream",
     "text": [
      "/Volumes/T7/PhD/HiveMonitor/dataset.py:33: FutureWarning: Setting an item of incompatible dtype is deprecated and will raise in a future error of pandas. Value '-0.0008376592732422388' has dtype incompatible with int64, please explicitly cast to a compatible dtype first.\n",
      "  df.at[i + offset, 'weight_delta_percent'] = perc_delta\n"
     ]
    },
    {
     "name": "stdout",
     "output_type": "stream",
     "text": [
      "Processing 2020_107.csv\n",
      "Processing 2020_107.csv: QC: True F: False H: False T: False D: True S: True\n",
      "MI: 206220/206226\r"
     ]
    },
    {
     "name": "stderr",
     "output_type": "stream",
     "text": [
      "/Volumes/T7/PhD/HiveMonitor/dataset.py:33: FutureWarning: Setting an item of incompatible dtype is deprecated and will raise in a future error of pandas. Value '0.00045996236671543966' has dtype incompatible with int64, please explicitly cast to a compatible dtype first.\n",
      "  df.at[i + offset, 'weight_delta_percent'] = perc_delta\n"
     ]
    },
    {
     "name": "stdout",
     "output_type": "stream",
     "text": [
      "Processing 2020_27.csv\n",
      "Processing 2020_27.csv: QC: True F: False H: True T: False D: True S: True\n",
      "MI: 335060/335073\r"
     ]
    },
    {
     "name": "stderr",
     "output_type": "stream",
     "text": [
      "/Volumes/T7/PhD/HiveMonitor/dataset.py:33: FutureWarning: Setting an item of incompatible dtype is deprecated and will raise in a future error of pandas. Value '5.270848751688369e-06' has dtype incompatible with int64, please explicitly cast to a compatible dtype first.\n",
      "  df.at[i + offset, 'weight_delta_percent'] = perc_delta\n"
     ]
    },
    {
     "name": "stdout",
     "output_type": "stream",
     "text": [
      "Processing 2020_64.csv\n",
      "Skipping 2020_64.csv: Nothing there\n",
      "Processing 2021_88.csv\n",
      "Processing 2021_88.csv: QC: True F: False H: False T: False D: True S: True\n",
      "MI: 94960/94976\r"
     ]
    },
    {
     "name": "stderr",
     "output_type": "stream",
     "text": [
      "/Volumes/T7/PhD/HiveMonitor/dataset.py:33: FutureWarning: Setting an item of incompatible dtype is deprecated and will raise in a future error of pandas. Value '0.00020255340044182608' has dtype incompatible with int64, please explicitly cast to a compatible dtype first.\n",
      "  df.at[i + offset, 'weight_delta_percent'] = perc_delta\n",
      "/Volumes/T7/PhD/HiveMonitor/dataset.py:73: RuntimeWarning: divide by zero encountered in scalar divide\n",
      "  perc_delta = (curr['t_i_1'] - prev['t_i_1']) / prev['t_i_1']\n"
     ]
    },
    {
     "name": "stdout",
     "output_type": "stream",
     "text": [
      "Processing 2021_49.csv\n",
      "Processing 2021_49.csv: QC: True F: True H: False T: True D: True S: True\n",
      "MI: 388560/388579\r"
     ]
    },
    {
     "name": "stderr",
     "output_type": "stream",
     "text": [
      "/Volumes/T7/PhD/HiveMonitor/dataset.py:33: FutureWarning: Setting an item of incompatible dtype is deprecated and will raise in a future error of pandas. Value '1.6603348160490651e-06' has dtype incompatible with int64, please explicitly cast to a compatible dtype first.\n",
      "  df.at[i + offset, 'weight_delta_percent'] = perc_delta\n",
      "/Volumes/T7/PhD/HiveMonitor/dataset.py:73: RuntimeWarning: divide by zero encountered in scalar divide\n",
      "  perc_delta = (curr['t_i_1'] - prev['t_i_1']) / prev['t_i_1']\n",
      "/Volumes/T7/PhD/HiveMonitor/dataset.py:73: RuntimeWarning: invalid value encountered in scalar divide\n",
      "  perc_delta = (curr['t_i_1'] - prev['t_i_1']) / prev['t_i_1']\n"
     ]
    },
    {
     "name": "stdout",
     "output_type": "stream",
     "text": [
      "Processing 2021_107.csv\n",
      "Processing 2021_107.csv: QC: True F: True H: False T: True D: True S: True\n",
      "MI: 476880/476885\r"
     ]
    },
    {
     "name": "stderr",
     "output_type": "stream",
     "text": [
      "/Volumes/T7/PhD/HiveMonitor/dataset.py:33: FutureWarning: Setting an item of incompatible dtype is deprecated and will raise in a future error of pandas. Value '-9.619038571138935e-05' has dtype incompatible with int64, please explicitly cast to a compatible dtype first.\n",
      "  df.at[i + offset, 'weight_delta_percent'] = perc_delta\n"
     ]
    },
    {
     "name": "stdout",
     "output_type": "stream",
     "text": [
      "Processing 2021_97.csv\n",
      "Processing 2021_97.csv: QC: True F: False H: True T: True D: True S: False\n",
      "MI: 384960/384972\r"
     ]
    },
    {
     "name": "stderr",
     "output_type": "stream",
     "text": [
      "/Volumes/T7/PhD/HiveMonitor/dataset.py:33: FutureWarning: Setting an item of incompatible dtype is deprecated and will raise in a future error of pandas. Value '-9.228359961969645e-05' has dtype incompatible with int64, please explicitly cast to a compatible dtype first.\n",
      "  df.at[i + offset, 'weight_delta_percent'] = perc_delta\n"
     ]
    },
    {
     "name": "stdout",
     "output_type": "stream",
     "text": [
      "Processing 2021_58.csv\n",
      "Processing 2021_58.csv: QC: True F: True H: False T: True D: True S: True\n",
      "MI: 86620/86631\r"
     ]
    },
    {
     "name": "stderr",
     "output_type": "stream",
     "text": [
      "/Volumes/T7/PhD/HiveMonitor/dataset.py:33: FutureWarning: Setting an item of incompatible dtype is deprecated and will raise in a future error of pandas. Value '0.00016146267799494469' has dtype incompatible with int64, please explicitly cast to a compatible dtype first.\n",
      "  df.at[i + offset, 'weight_delta_percent'] = perc_delta\n"
     ]
    },
    {
     "name": "stdout",
     "output_type": "stream",
     "text": [
      "Processing 2021_62.csv\n",
      "Skipping 2021_62.csv: Nothing there\n",
      "Processing 2021_126.csv\n",
      "Processing 2021_126.csv: QC: True F: False H: False T: False D: True S: True\n",
      "MI: 131800/131802\r"
     ]
    },
    {
     "name": "stderr",
     "output_type": "stream",
     "text": [
      "/Volumes/T7/PhD/HiveMonitor/dataset.py:33: FutureWarning: Setting an item of incompatible dtype is deprecated and will raise in a future error of pandas. Value '-1.1053523617538802e-05' has dtype incompatible with int64, please explicitly cast to a compatible dtype first.\n",
      "  df.at[i + offset, 'weight_delta_percent'] = perc_delta\n"
     ]
    },
    {
     "name": "stdout",
     "output_type": "stream",
     "text": [
      "Processing 2021_67.csv\n",
      "Skipping 2021_67.csv: Nothing there\n",
      "Processing 2021_141.csv\n",
      "Processing 2021_141.csv: QC: True F: True H: False T: False D: True S: True\n",
      "MI: 301660/301666\r"
     ]
    },
    {
     "name": "stderr",
     "output_type": "stream",
     "text": [
      "/Volumes/T7/PhD/HiveMonitor/dataset.py:33: FutureWarning: Setting an item of incompatible dtype is deprecated and will raise in a future error of pandas. Value '-0.0005157236930520606' has dtype incompatible with int64, please explicitly cast to a compatible dtype first.\n",
      "  df.at[i + offset, 'weight_delta_percent'] = perc_delta\n"
     ]
    },
    {
     "name": "stdout",
     "output_type": "stream",
     "text": [
      "Processing 2021_76.csv\n",
      "Skipping 2021_76.csv: Nothing there\n",
      "Processing 2021_85.csv\n",
      "Skipping 2021_85.csv: Nothing there\n",
      "Processing 2021_132.csv\n",
      "Skipping 2021_132.csv: Nothing there\n",
      "Processing 2021_136.csv\n",
      "Processing 2021_136.csv: QC: True F: True H: False T: True D: True S: True\n",
      "MI: 118920/118923\r"
     ]
    },
    {
     "name": "stderr",
     "output_type": "stream",
     "text": [
      "/Volumes/T7/PhD/HiveMonitor/dataset.py:33: FutureWarning: Setting an item of incompatible dtype is deprecated and will raise in a future error of pandas. Value '-0.003308874912648358' has dtype incompatible with int64, please explicitly cast to a compatible dtype first.\n",
      "  df.at[i + offset, 'weight_delta_percent'] = perc_delta\n",
      "/Volumes/T7/PhD/HiveMonitor/dataset.py:73: RuntimeWarning: invalid value encountered in scalar divide\n",
      "  perc_delta = (curr['t_i_1'] - prev['t_i_1']) / prev['t_i_1']\n",
      "/Volumes/T7/PhD/HiveMonitor/dataset.py:73: RuntimeWarning: divide by zero encountered in scalar divide\n",
      "  perc_delta = (curr['t_i_1'] - prev['t_i_1']) / prev['t_i_1']\n"
     ]
    },
    {
     "name": "stdout",
     "output_type": "stream",
     "text": [
      "Processing 2021_100.csv\n",
      "Skipping 2021_100.csv: Nothing there\n",
      "Processing 2021_108.csv\n",
      "Skipping 2021_108.csv: Nothing there\n",
      "Processing 2021_99.csv\n",
      "Skipping 2021_99.csv: Nothing there\n",
      "Processing 2021_64.csv\n",
      "Skipping 2021_64.csv: Nothing there\n",
      "Processing 2021_123.csv\n",
      "Processing 2021_123.csv: QC: False F: False H: True T: False D: True S: False\n",
      "MI: 484340/484359\r"
     ]
    },
    {
     "name": "stderr",
     "output_type": "stream",
     "text": [
      "/Volumes/T7/PhD/HiveMonitor/dataset.py:33: FutureWarning: Setting an item of incompatible dtype is deprecated and will raise in a future error of pandas. Value '7.27436913663524e-05' has dtype incompatible with int64, please explicitly cast to a compatible dtype first.\n",
      "  df.at[i + offset, 'weight_delta_percent'] = perc_delta\n",
      "/Volumes/T7/PhD/HiveMonitor/dataset.py:73: RuntimeWarning: invalid value encountered in scalar divide\n",
      "  perc_delta = (curr['t_i_1'] - prev['t_i_1']) / prev['t_i_1']\n",
      "/Volumes/T7/PhD/HiveMonitor/dataset.py:73: RuntimeWarning: divide by zero encountered in scalar divide\n",
      "  perc_delta = (curr['t_i_1'] - prev['t_i_1']) / prev['t_i_1']\n"
     ]
    },
    {
     "name": "stdout",
     "output_type": "stream",
     "text": [
      "Processing 2021_69.csv\n",
      "Processing 2021_69.csv: QC: False F: False H: False T: True D: True S: False\n",
      "MI: 211580/211587\r"
     ]
    },
    {
     "name": "stderr",
     "output_type": "stream",
     "text": [
      "/Volumes/T7/PhD/HiveMonitor/dataset.py:33: FutureWarning: Setting an item of incompatible dtype is deprecated and will raise in a future error of pandas. Value '-0.00012004354374501896' has dtype incompatible with int64, please explicitly cast to a compatible dtype first.\n",
      "  df.at[i + offset, 'weight_delta_percent'] = perc_delta\n"
     ]
    },
    {
     "name": "stdout",
     "output_type": "stream",
     "text": [
      "Processing 2021_82.csv\n",
      "Skipping 2021_82.csv: Nothing there\n",
      "Processing 2021_118.csv\n",
      "Processing 2021_118.csv: QC: True F: True H: True T: True D: True S: False\n",
      "MI: 212080/212086\r"
     ]
    },
    {
     "name": "stderr",
     "output_type": "stream",
     "text": [
      "/Volumes/T7/PhD/HiveMonitor/dataset.py:33: FutureWarning: Setting an item of incompatible dtype is deprecated and will raise in a future error of pandas. Value '6.563593932315393e-05' has dtype incompatible with int64, please explicitly cast to a compatible dtype first.\n",
      "  df.at[i + offset, 'weight_delta_percent'] = perc_delta\n"
     ]
    },
    {
     "name": "stdout",
     "output_type": "stream",
     "text": [
      "Processing 2021_96.csv\n",
      "Skipping 2021_96.csv: Nothing there\n",
      "Processing 2021_57.csv\n",
      "Processing 2021_57.csv: QC: True F: True H: True T: True D: False S: True\n",
      "MI: 471300/471306\r"
     ]
    },
    {
     "name": "stderr",
     "output_type": "stream",
     "text": [
      "/Volumes/T7/PhD/HiveMonitor/dataset.py:33: FutureWarning: Setting an item of incompatible dtype is deprecated and will raise in a future error of pandas. Value '0.01652542372881362' has dtype incompatible with int64, please explicitly cast to a compatible dtype first.\n",
      "  df.at[i + offset, 'weight_delta_percent'] = perc_delta\n",
      "/Volumes/T7/PhD/HiveMonitor/dataset.py:73: RuntimeWarning: divide by zero encountered in scalar divide\n",
      "  perc_delta = (curr['t_i_1'] - prev['t_i_1']) / prev['t_i_1']\n"
     ]
    },
    {
     "name": "stdout",
     "output_type": "stream",
     "text": [
      "Processing 2021_0.csv\n",
      "Skipping 2021_0.csv: Nothing there\n",
      "Processing 2021_101.csv\n",
      "Processing 2021_101.csv: QC: False F: True H: True T: True D: True S: False\n",
      "MI: 379480/379500\r"
     ]
    },
    {
     "name": "stderr",
     "output_type": "stream",
     "text": [
      "/Volumes/T7/PhD/HiveMonitor/dataset.py:33: FutureWarning: Setting an item of incompatible dtype is deprecated and will raise in a future error of pandas. Value '-1.5120274914005273e-05' has dtype incompatible with int64, please explicitly cast to a compatible dtype first.\n",
      "  df.at[i + offset, 'weight_delta_percent'] = perc_delta\n",
      "/Volumes/T7/PhD/HiveMonitor/dataset.py:73: RuntimeWarning: invalid value encountered in scalar divide\n",
      "  perc_delta = (curr['t_i_1'] - prev['t_i_1']) / prev['t_i_1']\n",
      "/Volumes/T7/PhD/HiveMonitor/dataset.py:73: RuntimeWarning: divide by zero encountered in scalar divide\n",
      "  perc_delta = (curr['t_i_1'] - prev['t_i_1']) / prev['t_i_1']\n",
      "/Volumes/T7/PhD/HiveMonitor/dataset.py:19: RuntimeWarning: invalid value encountered in scalar divide\n",
      "  perc_deltaDI = (curr[column] - prevDI[column]) / prevDI[column]\n",
      "/Volumes/T7/PhD/HiveMonitor/dataset.py:19: RuntimeWarning: divide by zero encountered in scalar divide\n",
      "  perc_deltaDI = (curr[column] - prevDI[column]) / prevDI[column]\n"
     ]
    },
    {
     "name": "stdout",
     "output_type": "stream",
     "text": [
      "Processing 2021_27.csv\n",
      "Skipping 2021_27.csv: Nothing there\n",
      "Processing 2021_70.csv\n",
      "Skipping 2021_70.csv: Nothing there\n",
      "Processing 2021_109.csv\n",
      "Skipping 2021_109.csv: Nothing there\n",
      "Processing 2021_36.csv\n",
      "Processing 2021_36.csv: QC: True F: True H: True T: True D: True S: False\n",
      "MI: 289280/289287\r"
     ]
    },
    {
     "name": "stderr",
     "output_type": "stream",
     "text": [
      "/Volumes/T7/PhD/HiveMonitor/dataset.py:33: FutureWarning: Setting an item of incompatible dtype is deprecated and will raise in a future error of pandas. Value '-2.841846650290999e-05' has dtype incompatible with int64, please explicitly cast to a compatible dtype first.\n",
      "  df.at[i + offset, 'weight_delta_percent'] = perc_delta\n"
     ]
    },
    {
     "name": "stdout",
     "output_type": "stream",
     "text": [
      "Processing 2021_128.csv\n",
      "Skipping 2021_128.csv: Nothing there\n",
      "Processing 2021_84.csv\n",
      "Skipping 2021_84.csv: Nothing there\n",
      "Processing 2021_111.csv\n",
      "Processing 2021_111.csv: QC: True F: False H: True T: True D: True S: True\n",
      "MI: 66240/66252\r"
     ]
    },
    {
     "name": "stderr",
     "output_type": "stream",
     "text": [
      "/Volumes/T7/PhD/HiveMonitor/dataset.py:33: FutureWarning: Setting an item of incompatible dtype is deprecated and will raise in a future error of pandas. Value '4.2851895686215125e-05' has dtype incompatible with int64, please explicitly cast to a compatible dtype first.\n",
      "  df.at[i + offset, 'weight_delta_percent'] = perc_delta\n"
     ]
    },
    {
     "name": "stdout",
     "output_type": "stream",
     "text": [
      "Processing 2021_115.csv\n",
      "Skipping 2021_115.csv: Nothing there\n",
      "Processing 2021_134.csv\n",
      "Processing 2021_134.csv: QC: True F: False H: True T: False D: True S: True\n",
      "MI: 291340/291356\r"
     ]
    },
    {
     "name": "stderr",
     "output_type": "stream",
     "text": [
      "/Volumes/T7/PhD/HiveMonitor/dataset.py:33: FutureWarning: Setting an item of incompatible dtype is deprecated and will raise in a future error of pandas. Value '-0.0002186645841465855' has dtype incompatible with int64, please explicitly cast to a compatible dtype first.\n",
      "  df.at[i + offset, 'weight_delta_percent'] = perc_delta\n"
     ]
    },
    {
     "name": "stdout",
     "output_type": "stream",
     "text": [
      "Processing 2021_72.csv\n",
      "Processing 2021_72.csv: QC: False F: False H: False T: False D: False S: True\n",
      "MI: 86240/86241\r"
     ]
    },
    {
     "name": "stderr",
     "output_type": "stream",
     "text": [
      "/Volumes/T7/PhD/HiveMonitor/dataset.py:33: FutureWarning: Setting an item of incompatible dtype is deprecated and will raise in a future error of pandas. Value '-0.0003621915516518084' has dtype incompatible with int64, please explicitly cast to a compatible dtype first.\n",
      "  df.at[i + offset, 'weight_delta_percent'] = perc_delta\n"
     ]
    },
    {
     "name": "stdout",
     "output_type": "stream",
     "text": [
      "Processing 2021_86.csv\n",
      "Processing 2021_86.csv: QC: True F: False H: True T: True D: True S: False\n",
      "MI: 343660/343680\r"
     ]
    },
    {
     "name": "stderr",
     "output_type": "stream",
     "text": [
      "/Volumes/T7/PhD/HiveMonitor/dataset.py:33: FutureWarning: Setting an item of incompatible dtype is deprecated and will raise in a future error of pandas. Value '-6.095826390864619e-05' has dtype incompatible with int64, please explicitly cast to a compatible dtype first.\n",
      "  df.at[i + offset, 'weight_delta_percent'] = perc_delta\n"
     ]
    },
    {
     "name": "stdout",
     "output_type": "stream",
     "text": [
      "Processing 2021_90.csv\n",
      "Skipping 2021_90.csv: Nothing there\n",
      "Processing 2021_129.csv\n",
      "Processing 2021_129.csv: QC: True F: False H: True T: False D: True S: True\n",
      "MI: 255900/255908\r"
     ]
    },
    {
     "name": "stderr",
     "output_type": "stream",
     "text": [
      "/Volumes/T7/PhD/HiveMonitor/dataset.py:33: FutureWarning: Setting an item of incompatible dtype is deprecated and will raise in a future error of pandas. Value '-0.00015567124584331204' has dtype incompatible with int64, please explicitly cast to a compatible dtype first.\n",
      "  df.at[i + offset, 'weight_delta_percent'] = perc_delta\n"
     ]
    },
    {
     "name": "stdout",
     "output_type": "stream",
     "text": [
      "Processing 2021_95.csv\n",
      "Skipping 2021_95.csv: Nothing there\n",
      "Processing 2021_60.csv\n",
      "Skipping 2021_60.csv: Nothing there\n",
      "Processing 2021_21.csv\n",
      "Processing 2021_21.csv: QC: False F: False H: True T: True D: True S: True\n",
      "MI: 321280/321291\r"
     ]
    },
    {
     "name": "stderr",
     "output_type": "stream",
     "text": [
      "/Volumes/T7/PhD/HiveMonitor/dataset.py:33: FutureWarning: Setting an item of incompatible dtype is deprecated and will raise in a future error of pandas. Value '-0.0009997791816905705' has dtype incompatible with int64, please explicitly cast to a compatible dtype first.\n",
      "  df.at[i + offset, 'weight_delta_percent'] = perc_delta\n",
      "/Volumes/T7/PhD/HiveMonitor/dataset.py:73: RuntimeWarning: invalid value encountered in scalar divide\n",
      "  perc_delta = (curr['t_i_1'] - prev['t_i_1']) / prev['t_i_1']\n",
      "/Volumes/T7/PhD/HiveMonitor/dataset.py:19: RuntimeWarning: invalid value encountered in scalar divide\n",
      "  perc_deltaDI = (curr[column] - prevDI[column]) / prevDI[column]\n",
      "/Volumes/T7/PhD/HiveMonitor/dataset.py:73: RuntimeWarning: divide by zero encountered in scalar divide\n",
      "  perc_delta = (curr['t_i_1'] - prev['t_i_1']) / prev['t_i_1']\n",
      "/Volumes/T7/PhD/HiveMonitor/dataset.py:19: RuntimeWarning: divide by zero encountered in scalar divide\n",
      "  perc_deltaDI = (curr[column] - prevDI[column]) / prevDI[column]\n"
     ]
    },
    {
     "name": "stdout",
     "output_type": "stream",
     "text": [
      "Processing 2021_26.csv\n",
      "Processing 2021_26.csv: QC: False F: False H: False T: False D: True S: False\n",
      "MI: 295420/295430\r"
     ]
    },
    {
     "name": "stderr",
     "output_type": "stream",
     "text": [
      "/Volumes/T7/PhD/HiveMonitor/dataset.py:33: FutureWarning: Setting an item of incompatible dtype is deprecated and will raise in a future error of pandas. Value '-5.805227536592752e-05' has dtype incompatible with int64, please explicitly cast to a compatible dtype first.\n",
      "  df.at[i + offset, 'weight_delta_percent'] = perc_delta\n",
      "/Volumes/T7/PhD/HiveMonitor/dataset.py:73: RuntimeWarning: divide by zero encountered in scalar divide\n",
      "  perc_delta = (curr['t_i_1'] - prev['t_i_1']) / prev['t_i_1']\n"
     ]
    },
    {
     "name": "stdout",
     "output_type": "stream",
     "text": [
      "Processing 2021_79.csv\n",
      "Skipping 2021_79.csv: Nothing there\n",
      "Processing 2021_135.csv\n",
      "Processing 2021_135.csv: QC: False F: False H: False T: False D: True S: True\n",
      "MI: 285820/285832\r"
     ]
    },
    {
     "name": "stderr",
     "output_type": "stream",
     "text": [
      "/Volumes/T7/PhD/HiveMonitor/dataset.py:33: FutureWarning: Setting an item of incompatible dtype is deprecated and will raise in a future error of pandas. Value '0.6281357155627069' has dtype incompatible with int64, please explicitly cast to a compatible dtype first.\n",
      "  df.at[i + offset, 'weight_delta_percent'] = perc_delta\n"
     ]
    },
    {
     "name": "stdout",
     "output_type": "stream",
     "text": [
      "Processing 2022_82.csv\n",
      "Skipping 2022_82.csv: Nothing there\n",
      "Processing 2022_115.csv\n",
      "Skipping 2022_115.csv: Nothing there\n",
      "Processing 2022_96.csv\n",
      "Skipping 2022_96.csv: Nothing there\n",
      "Processing 2022_57.csv\n",
      "Skipping 2022_57.csv: Nothing there\n",
      "Processing 2022_134.csv\n",
      "Skipping 2022_134.csv: Nothing there\n",
      "Processing 2022_27.csv\n",
      "Skipping 2022_27.csv: Nothing there\n",
      "Processing 2022_70.csv\n",
      "Skipping 2022_70.csv: Nothing there\n",
      "Processing 2022_75.csv\n",
      "Skipping 2022_75.csv: Nothing there\n",
      "Processing 2022_129.csv\n",
      "Skipping 2022_129.csv: Nothing there\n",
      "Processing 2022_112.csv\n",
      "Processing 2022_112.csv: QC: False F: True H: False T: True D: True S: True\n",
      "MI: 324100/324115\r"
     ]
    },
    {
     "name": "stderr",
     "output_type": "stream",
     "text": [
      "/Volumes/T7/PhD/HiveMonitor/dataset.py:33: FutureWarning: Setting an item of incompatible dtype is deprecated and will raise in a future error of pandas. Value '-0.0005806028171857459' has dtype incompatible with int64, please explicitly cast to a compatible dtype first.\n",
      "  df.at[i + offset, 'weight_delta_percent'] = perc_delta\n",
      "/Volumes/T7/PhD/HiveMonitor/dataset.py:73: RuntimeWarning: divide by zero encountered in scalar divide\n",
      "  perc_delta = (curr['t_i_1'] - prev['t_i_1']) / prev['t_i_1']\n"
     ]
    },
    {
     "name": "stdout",
     "output_type": "stream",
     "text": [
      "Processing 2022_135.csv\n",
      "Processing 2022_135.csv: QC: False F: False H: False T: False D: True S: True\n",
      "MI: 483680/483693\r"
     ]
    },
    {
     "name": "stderr",
     "output_type": "stream",
     "text": [
      "/Volumes/T7/PhD/HiveMonitor/dataset.py:33: FutureWarning: Setting an item of incompatible dtype is deprecated and will raise in a future error of pandas. Value '-0.0004362087268967573' has dtype incompatible with int64, please explicitly cast to a compatible dtype first.\n",
      "  df.at[i + offset, 'weight_delta_percent'] = perc_delta\n"
     ]
    },
    {
     "name": "stdout",
     "output_type": "stream",
     "text": [
      "Processing 2022_139.csv\n",
      "Skipping 2022_139.csv: Nothing there\n",
      "Processing 2022_107.csv\n",
      "Skipping 2022_107.csv: Nothing there\n",
      "Processing 2022_126.csv\n",
      "Skipping 2022_126.csv: Nothing there\n",
      "Processing 2022_95.csv\n",
      "Skipping 2022_95.csv: Nothing there\n",
      "Processing 2022_56.csv\n",
      "Skipping 2022_56.csv: Nothing there\n",
      "Processing 2022_17.csv\n",
      "Processing 2022_17.csv: QC: False F: False H: False T: True D: True S: False\n",
      "MI: 233580/233596\r"
     ]
    },
    {
     "name": "stderr",
     "output_type": "stream",
     "text": [
      "/Volumes/T7/PhD/HiveMonitor/dataset.py:33: FutureWarning: Setting an item of incompatible dtype is deprecated and will raise in a future error of pandas. Value '-2.8212016853991734e-05' has dtype incompatible with int64, please explicitly cast to a compatible dtype first.\n",
      "  df.at[i + offset, 'weight_delta_percent'] = perc_delta\n"
     ]
    },
    {
     "name": "stdout",
     "output_type": "stream",
     "text": [
      "Processing 2022_21.csv\n",
      "Skipping 2022_21.csv: Nothing there\n",
      "Processing 2022_141.csv\n",
      "Skipping 2022_141.csv: Nothing there\n",
      "Processing 2022_26.csv\n",
      "Processing 2022_26.csv: QC: True F: False H: False T: False D: True S: True\n",
      "MI: 292780/292792\r"
     ]
    },
    {
     "name": "stderr",
     "output_type": "stream",
     "text": [
      "/Volumes/T7/PhD/HiveMonitor/dataset.py:33: FutureWarning: Setting an item of incompatible dtype is deprecated and will raise in a future error of pandas. Value '9.439305267139084e-05' has dtype incompatible with int64, please explicitly cast to a compatible dtype first.\n",
      "  df.at[i + offset, 'weight_delta_percent'] = perc_delta\n",
      "/Volumes/T7/PhD/HiveMonitor/dataset.py:73: RuntimeWarning: divide by zero encountered in scalar divide\n",
      "  perc_delta = (curr['t_i_1'] - prev['t_i_1']) / prev['t_i_1']\n"
     ]
    },
    {
     "name": "stdout",
     "output_type": "stream",
     "text": [
      "Processing 2022_79.csv\n",
      "Skipping 2022_79.csv: Nothing there\n",
      "Processing 2022_136.csv\n",
      "Skipping 2022_136.csv: Nothing there\n",
      "Processing 2022_100.csv\n",
      "Skipping 2022_100.csv: Nothing there\n",
      "Processing 2022_88.csv\n",
      "Skipping 2022_88.csv: Nothing there\n",
      "Processing 2022_49.csv\n",
      "Processing 2022_49.csv: QC: True F: True H: False T: True D: True S: True\n",
      "MI: 397140/397155\r"
     ]
    },
    {
     "name": "stderr",
     "output_type": "stream",
     "text": [
      "/Volumes/T7/PhD/HiveMonitor/dataset.py:33: FutureWarning: Setting an item of incompatible dtype is deprecated and will raise in a future error of pandas. Value '-8.20772884316831e-05' has dtype incompatible with int64, please explicitly cast to a compatible dtype first.\n",
      "  df.at[i + offset, 'weight_delta_percent'] = perc_delta\n"
     ]
    },
    {
     "name": "stdout",
     "output_type": "stream",
     "text": [
      "Processing 2022_151.csv\n",
      "Skipping 2022_151.csv: Nothing there\n",
      "Processing 2022_97.csv\n",
      "Skipping 2022_97.csv: Nothing there\n",
      "Processing 2022_58.csv\n",
      "Processing 2022_58.csv: QC: True F: True H: False T: True D: True S: True\n",
      "MI: 144900/144905\r"
     ]
    },
    {
     "name": "stderr",
     "output_type": "stream",
     "text": [
      "/Volumes/T7/PhD/HiveMonitor/dataset.py:33: FutureWarning: Setting an item of incompatible dtype is deprecated and will raise in a future error of pandas. Value '-0.00013603155042376405' has dtype incompatible with int64, please explicitly cast to a compatible dtype first.\n",
      "  df.at[i + offset, 'weight_delta_percent'] = perc_delta\n"
     ]
    },
    {
     "name": "stdout",
     "output_type": "stream",
     "text": [
      "Processing 2022_62.csv\n",
      "Skipping 2022_62.csv: Nothing there\n",
      "Processing 2022_123.csv\n",
      "Processing 2022_123.csv: QC: True F: False H: True T: True D: True S: True\n",
      "MI: 427460/427475\r"
     ]
    },
    {
     "name": "stderr",
     "output_type": "stream",
     "text": [
      "/Volumes/T7/PhD/HiveMonitor/dataset.py:33: FutureWarning: Setting an item of incompatible dtype is deprecated and will raise in a future error of pandas. Value '-0.00013659410787674898' has dtype incompatible with int64, please explicitly cast to a compatible dtype first.\n",
      "  df.at[i + offset, 'weight_delta_percent'] = perc_delta\n"
     ]
    },
    {
     "name": "stdout",
     "output_type": "stream",
     "text": [
      "Processing 2022_67.csv\n",
      "Skipping 2022_67.csv: Nothing there\n",
      "Processing 2022_101.csv\n",
      "Processing 2022_101.csv: QC: False F: True H: True T: True D: True S: False\n",
      "MI: 469720/469729\r"
     ]
    },
    {
     "name": "stderr",
     "output_type": "stream",
     "text": [
      "/Volumes/T7/PhD/HiveMonitor/dataset.py:33: FutureWarning: Setting an item of incompatible dtype is deprecated and will raise in a future error of pandas. Value '0.00017240440629358878' has dtype incompatible with int64, please explicitly cast to a compatible dtype first.\n",
      "  df.at[i + offset, 'weight_delta_percent'] = perc_delta\n"
     ]
    },
    {
     "name": "stdout",
     "output_type": "stream",
     "text": [
      "Processing 2022_109.csv\n",
      "Skipping 2022_109.csv: Nothing there\n",
      "Processing 2022_5.csv\n",
      "Skipping 2022_5.csv: Nothing there\n",
      "Processing 2022_152.csv\n",
      "Processing 2022_152.csv: QC: True F: True H: False T: True D: True S: True\n",
      "MI: 366080/366088\r"
     ]
    },
    {
     "name": "stderr",
     "output_type": "stream",
     "text": [
      "/Volumes/T7/PhD/HiveMonitor/dataset.py:33: FutureWarning: Setting an item of incompatible dtype is deprecated and will raise in a future error of pandas. Value '0.00016931123127377507' has dtype incompatible with int64, please explicitly cast to a compatible dtype first.\n",
      "  df.at[i + offset, 'weight_delta_percent'] = perc_delta\n"
     ]
    },
    {
     "name": "stdout",
     "output_type": "stream",
     "text": [
      "Processing 2022_69.csv\n",
      "Skipping 2022_69.csv: Nothing there\n"
     ]
    }
   ],
   "source": [
    "for file in files:\n",
    "    df = pd.read_csv(file.path, dtype={\n",
    "        't_i_1': float,\n",
    "        't_i_2': float,\n",
    "        't_i_3': float,\n",
    "        't_i_4': float,\n",
    "        't_o': float,\n",
    "        'weight_kg': float,\n",
    "        \"weight_delta\": float,\n",
    "        'numeric.time': float,\n",
    "        'h': float,\n",
    "        't': float,\n",
    "        'p': float,\n",
    "    }, low_memory=False)\n",
    "    \n",
    "    odf = pd.DataFrame(columns=columns)\n",
    "    df = df.bfill()\n",
    "    first = df.iloc[0]\n",
    "    print(f\"Processing {file.name}\")\n",
    "    no_queencell = first['queencell.next.dif'] == 'NA' or first['queencell.next.dif'] == '' or first['queencell.next.dif'] == None or math.isnan(first['queencell.next.dif'])\n",
    "    no_feeding = first['feeding.next.dif'] == 'NA' or first['feeding.next.dif'] == '' or first['feeding.next.dif'] == None or math.isnan(first['feeding.next.dif'])\n",
    "    no_honey = first['honey.next.dif'] == 'NA' or first['honey.next.dif'] == '' or first['honey.next.dif'] == None or math.isnan(first['honey.next.dif'])\n",
    "    no_treatment = first['treatment.next.dif'] == 'NA' or first['treatment.next.dif'] == '' or first['treatment.next.dif'] == None or math.isnan(first['treatment.next.dif'])\n",
    "    no_died = first['died.next.dif'] == 'NA' or first['died.next.dif'] == '' or first['died.next.dif'] == '0' or first['died.next.dif'] == None or math.isnan(first['died.next.dif'])\n",
    "    no_swarming = first['swarming.next.dif'] == 'NA' or first['swarming.next.dif'] == '' or first['swarming.next.dif'] == None or math.isnan(first['swarming.next.dif'])\n",
    "    \n",
    "    if no_queencell == True and no_feeding == True and no_honey == True and no_treatment == True and no_died == True and no_swarming == True:\n",
    "        print(f'Skipping {file.name}: Nothing there')\n",
    "        continue\n",
    "    print(f'Processing {file.name}: QC: {no_queencell} F: {no_feeding} H: {no_honey} T: {no_treatment} D: {no_died} S: {no_swarming}')\n",
    "\n",
    "    for i, current in df.iterrows():\n",
    "        # print(f\"I: {i}/{len(df)}\", end='\\r')\n",
    "        if i % MINUTES == 0:\n",
    "            print(f\"MI: {i}/{len(df)}\", end='\\r')\n",
    "\n",
    "            if i > 0:\n",
    "                slice = df.iloc[i-MINUTES:i]\n",
    "                \n",
    "                odf.loc[i // MINUTES] = {\n",
    "                    'X.1': current['X.1'],\n",
    "                    'month': current['month'],\n",
    "                    'hour': current['hour'],\n",
    "\n",
    "                    't_i_1': slice['t_i_1'].mean(),\n",
    "                    't_i_2': slice['t_i_2'].mean(),\n",
    "                    't_i_3': slice['t_i_3'].mean(),\n",
    "                    't_i_4': slice['t_i_4'].mean(),\n",
    "\n",
    "                    't_o': slice['t_o'].mean(),\n",
    "                    'weight_kg': slice['weight_kg'].mean(),\n",
    "\n",
    "                    'h': slice['h'].mean(),\n",
    "                    't': slice['t'].mean(),\n",
    "                    'p': slice['p'].mean(),\n",
    "                    \n",
    "                    'queencell.next.dif': current['queencell.next.dif'],\n",
    "                    'feeding.next.dif': current['feeding.next.dif'],\n",
    "                    'honey.next.dif': current['honey.next.dif'],\n",
    "                    'treatment.next.dif': current['treatment.next.dif'],\n",
    "                    'died.next.dif': current['died.next.dif'],\n",
    "                    'swarming.next.dif': current['swarming.next.dif'],\n",
    "                }\n",
    "            else:\n",
    "                odf.loc[i // MINUTES] = current[columns]\n",
    "\n",
    "    \n",
    "    odf = odf.bfill()\n",
    "\n",
    "    odf['weight_kg'] = dataset.smooth_col(odf['weight_kg'])\n",
    "    odf['t_i_1'] = dataset.smooth_col(odf['t_i_1'])\n",
    "    odf['t_i_2'] = dataset.smooth_col(odf['t_i_2'])\n",
    "    odf['t_i_3'] = dataset.smooth_col(odf['t_i_3'])\n",
    "    odf['t_i_4'] = dataset.smooth_col(odf['t_i_4'])\n",
    "    odf['t'] = dataset.smooth_col(odf['t'])\n",
    "    odf['h'] = dataset.smooth_col(odf['h'])\n",
    "\n",
    "    swarming_indexes = events.get_event_indexes(odf, 'swarming.next.dif')\n",
    "    queencell_indexes = events.get_event_indexes(odf, 'queencell.next.dif')\n",
    "    feeding_indexes = events.get_event_indexes(odf, 'feeding.next.dif')\n",
    "    honey_indexes = events.get_event_indexes(odf, 'honey.next.dif')\n",
    "    treatment_indexes = events.get_event_indexes(odf, 'treatment.next.dif')\n",
    "    died_indexes = events.get_event_indexes(odf, 'died.next.dif')\n",
    "\n",
    "\n",
    "\n",
    "    dataset.populate_column_by_index(odf, 'swarming', swarming_indexes)\n",
    "    dataset.populate_column_by_index(odf, 'queencell', queencell_indexes)\n",
    "    dataset.populate_column_by_index(odf, 'feeding', feeding_indexes)\n",
    "    dataset.populate_column_by_index(odf, 'honey', honey_indexes)\n",
    "    dataset.populate_column_by_index(odf, 'treatment', treatment_indexes)\n",
    "    dataset.populate_column_by_index(odf, 'died', died_indexes)\n",
    "\n",
    "    dataset.populate_delta(odf)\n",
    "    dataset.populate_temp_delta(odf)\n",
    "    dataset.populate_humidity_delta(odf)\n",
    "    dataset.populate_normalized(odf, 'weight_delta_percent')\n",
    "    dataset.populate_normalized(odf, 'weight_delta_diff')\n",
    "    dataset.populate_scaled_weight(odf)\n",
    "\n",
    "    odf.to_csv(f'{OUT_DIR}/{file.name}', index=False)"
   ]
  }
 ],
 "metadata": {
  "kernelspec": {
   "display_name": "tf",
   "language": "python",
   "name": "python3"
  },
  "language_info": {
   "codemirror_mode": {
    "name": "ipython",
    "version": 3
   },
   "file_extension": ".py",
   "mimetype": "text/x-python",
   "name": "python",
   "nbconvert_exporter": "python",
   "pygments_lexer": "ipython3",
   "version": "3.11.7"
  }
 },
 "nbformat": 4,
 "nbformat_minor": 2
}
