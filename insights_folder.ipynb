{
 "cells": [
  {
   "cell_type": "code",
   "execution_count": 1,
   "metadata": {},
   "outputs": [],
   "source": [
    "import pandas as pd\n",
    "from pandas import DataFrame\n",
    "import os\n",
    "import matplotlib.pyplot as plt\n",
    "import matplotlib.dates as mdates\n",
    "from datetime import datetime\n",
    "import events\n",
    "import visualise\n",
    "import dataset\n",
    "\n",
    "DIR = 'dataset/transformed_timestamps/interval_15m'\n",
    "files = sorted(os.listdir(DIR))\n",
    "files_e = enumerate(files)"
   ]
  },
  {
   "cell_type": "markdown",
   "metadata": {},
   "source": [
    "# Visualize Folder"
   ]
  },
  {
   "cell_type": "code",
   "execution_count": 68,
   "metadata": {},
   "outputs": [
    {
     "ename": "StopIteration",
     "evalue": "",
     "output_type": "error",
     "traceback": [
      "\u001b[0;31m---------------------------------------------------------------------------\u001b[0m",
      "\u001b[0;31mStopIteration\u001b[0m                             Traceback (most recent call last)",
      "Cell \u001b[0;32mIn[68], line 1\u001b[0m\n\u001b[0;32m----> 1\u001b[0m i, file \u001b[38;5;241m=\u001b[39m files_e\u001b[38;5;241m.\u001b[39m\u001b[38;5;21m__next__\u001b[39m()\n\u001b[1;32m      2\u001b[0m \u001b[38;5;28mprint\u001b[39m(\u001b[38;5;124mf\u001b[39m\u001b[38;5;124m\"\u001b[39m\u001b[38;5;124m(\u001b[39m\u001b[38;5;132;01m{\u001b[39;00mi\u001b[38;5;132;01m}\u001b[39;00m\u001b[38;5;124m/\u001b[39m\u001b[38;5;132;01m{\u001b[39;00m\u001b[38;5;28mlen\u001b[39m(files)\u001b[38;5;132;01m}\u001b[39;00m\u001b[38;5;124m)\u001b[39m\u001b[38;5;130;01m\\t\u001b[39;00m\u001b[38;5;124mShowing file: \u001b[39m\u001b[38;5;132;01m{\u001b[39;00mfile\u001b[38;5;132;01m}\u001b[39;00m\u001b[38;5;124m\"\u001b[39m)\n\u001b[1;32m      3\u001b[0m df \u001b[38;5;241m=\u001b[39m dataset\u001b[38;5;241m.\u001b[39mread_dataset_file(os\u001b[38;5;241m.\u001b[39mpath\u001b[38;5;241m.\u001b[39mjoin(DIR, file))\n",
      "\u001b[0;31mStopIteration\u001b[0m: "
     ]
    }
   ],
   "source": [
    "i, file = files_e.__next__()\n",
    "print(f\"({i}/{len(files) -1})\\tShowing file: {file}\")\n",
    "df = dataset.read_dataset_file(os.path.join(DIR, file))\n",
    "df = df.infer_objects(copy=False)\n",
    "\n",
    "start_date =  df.index.min()\n",
    "end_date = df.index.max()\n",
    "\n",
    "# start_date = pd.to_datetime('2019-9-22 10:00')\n",
    "# end_date = pd.to_datetime('2019-9-26 16:00')\n",
    "\n",
    "events_indexes = events.get_parsed_event_indexes(df)\n",
    "\n",
    "swarming_indexes = events_indexes[0]\n",
    "queencell_indexes = events_indexes[1]\n",
    "feeding_indexes = events_indexes[2]\n",
    "honey_indexes = events_indexes[3]\n",
    "treatment_indexes = events_indexes[4]\n",
    "died_indexes = events_indexes[5]\n",
    "    \n",
    "print (f'Swarming {len(swarming_indexes)}: {swarming_indexes}')\n",
    "print (f'Queencell {len(queencell_indexes)}: {queencell_indexes}')\n",
    "print (f'Feeding {len(feeding_indexes)}: {feeding_indexes}')\n",
    "print (f'Honey {len(honey_indexes)}: {honey_indexes}')\n",
    "print (f'Treatment {len(treatment_indexes)}: {treatment_indexes}')\n",
    "print (f'Died {len(died_indexes)}: {died_indexes}')\n",
    "print ('========================================')\n",
    "print(f\"{df.index.min()}  ---  {df.index.max()}\")\n",
    "\n",
    "visualise.visualise(df, start_date, end_date, file, {\n",
    "    'Swarming': swarming_indexes,\n",
    "    'Queencell': queencell_indexes,\n",
    "    'Feeding': feeding_indexes,\n",
    "    'Honey': honey_indexes,\n",
    "    'Treatment': treatment_indexes,\n",
    "    'Died': died_indexes\n",
    "})\n"
   ]
  },
  {
   "cell_type": "code",
   "execution_count": null,
   "metadata": {},
   "outputs": [],
   "source": []
  }
 ],
 "metadata": {
  "kernelspec": {
   "display_name": "tf",
   "language": "python",
   "name": "python3"
  },
  "language_info": {
   "codemirror_mode": {
    "name": "ipython",
    "version": 3
   },
   "file_extension": ".py",
   "mimetype": "text/x-python",
   "name": "python",
   "nbconvert_exporter": "python",
   "pygments_lexer": "ipython3",
   "version": "3.12.4"
  }
 },
 "nbformat": 4,
 "nbformat_minor": 2
}
