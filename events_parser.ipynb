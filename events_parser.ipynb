{
 "cells": [
  {
   "cell_type": "code",
   "execution_count": 5,
   "metadata": {},
   "outputs": [],
   "source": [
    "import pandas as pd\n",
    "from pandas import DataFrame\n",
    "import math\n",
    "import dataset\n",
    "import main\n",
    "import events\n",
    "import os\n",
    "import numpy as np\n",
    "\n",
    "MODE = '20m'\n",
    "\n",
    "SRC_DIR = f'dataset/b_parsed_{MODE}'\n",
    "OUT_DIR = f'{SRC_DIR}/parsed'\n",
    "os.makedirs(OUT_DIR, exist_ok=True)"
   ]
  },
  {
   "cell_type": "code",
   "execution_count": 6,
   "metadata": {},
   "outputs": [],
   "source": [
    "def export_indexes_slice(ds, filepath, indexes, offsets, ind_name):\n",
    "    path = os.path.basename(filepath).replace('.csv', '')\n",
    "    for i in range(0, len(indexes)):\n",
    "        event_shorts = dataset.event_shorts_for_part(ds)\n",
    "        fname = f'{path}-{event_shorts}-{i}'\n",
    "        ind = indexes[i]\n",
    "        start = max(ind - offsets, 0)\n",
    "        end = min(ind + offsets, len(ds))\n",
    "        print(f\"Saving {fname}.csv\")\n",
    "        ffd = ds.iloc[start:end]\n",
    "        is_valid = True #dataset.validate_part_events(ffd, fname)\n",
    "        if is_valid == True:\n",
    "            os.makedirs(f\"{OUT_DIR}/{ind_name}\", exist_ok=True)\n",
    "            ffd.to_csv(f\"{OUT_DIR}/{ind_name}/{fname}.csv\", index=False)\n",
    "        else:\n",
    "            print(f\"Skipping {fname}: Not valid\")"
   ]
  },
  {
   "cell_type": "code",
   "execution_count": 7,
   "metadata": {},
   "outputs": [],
   "source": [
    "files = os.scandir(SRC_DIR)"
   ]
  },
  {
   "cell_type": "code",
   "execution_count": 8,
   "metadata": {},
   "outputs": [
    {
     "name": "stdout",
     "output_type": "stream",
     "text": [
      "Processing dataset/b_parsed_20m/2019_62.csv\n",
      "Saving 2019_62-fh-0.csv\n",
      "Saving 2019_62-fh-0.csv\n",
      "Processing dataset/b_parsed_20m/2020_87.csv\n",
      "Saving 2020_87-qh-0.csv\n",
      "Saving 2020_87-qh-1.csv\n",
      "Saving 2020_87-qh-2.csv\n",
      "Saving 2020_87-qh-0.csv\n",
      "Saving 2020_87-qh-1.csv\n",
      "Saving 2020_87-qh-2.csv\n",
      "Processing dataset/b_parsed_20m/2020_57.csv\n"
     ]
    },
    {
     "name": "stderr",
     "output_type": "stream",
     "text": [
      "/var/folders/8g/gbqqwv9j035d81xb9dz_s6kw0000gn/T/ipykernel_3399/2501866106.py:6: DtypeWarning: Columns (0) have mixed types. Specify dtype option on import or set low_memory=False.\n",
      "  ds = pd.read_csv(file.path)\n"
     ]
    },
    {
     "name": "stdout",
     "output_type": "stream",
     "text": [
      "Processing dataset/b_parsed_20m/2020_118.csv\n",
      "Saving 2020_118-sft-0.csv\n",
      "Saving 2020_118-sft-0.csv\n",
      "Saving 2020_118-sft-0.csv\n",
      "Saving 2020_118-sft-1.csv\n",
      "Processing dataset/b_parsed_20m/2019_11.csv\n",
      "Saving 2019_11-f-0.csv\n",
      "Processing dataset/b_parsed_20m/2020_26.csv\n",
      "Saving 2020_26-fht-0.csv\n",
      "Saving 2020_26-fht-0.csv\n",
      "Saving 2020_26-fht-0.csv\n",
      "Saving 2020_26-fht-1.csv\n",
      "Saving 2020_26-fht-2.csv\n",
      "Saving 2020_26-fht-3.csv\n",
      "Processing dataset/b_parsed_20m/2019_26.csv\n",
      "Processing dataset/b_parsed_20m/2020_79.csv\n",
      "Saving 2020_79-sft-0.csv\n",
      "Saving 2020_79-sft-0.csv\n",
      "Saving 2020_79-sft-0.csv\n",
      "Saving 2020_79-sft-1.csv\n",
      "Processing dataset/b_parsed_20m/2019_27.csv\n",
      "Saving 2019_27-f-0.csv\n",
      "Processing dataset/b_parsed_20m/2020_49.csv\n"
     ]
    },
    {
     "name": "stderr",
     "output_type": "stream",
     "text": [
      "/var/folders/8g/gbqqwv9j035d81xb9dz_s6kw0000gn/T/ipykernel_3399/2501866106.py:6: DtypeWarning: Columns (0) have mixed types. Specify dtype option on import or set low_memory=False.\n",
      "  ds = pd.read_csv(file.path)\n"
     ]
    },
    {
     "name": "stdout",
     "output_type": "stream",
     "text": [
      "Saving 2020_49-h-0.csv\n",
      "Processing dataset/b_parsed_20m/2019_43.csv\n",
      "Saving 2019_43-d-0.csv\n",
      "Processing dataset/b_parsed_20m/2019_48.csv\n",
      "Processing dataset/b_parsed_20m/2020_111.csv\n"
     ]
    },
    {
     "name": "stderr",
     "output_type": "stream",
     "text": [
      "/var/folders/8g/gbqqwv9j035d81xb9dz_s6kw0000gn/T/ipykernel_3399/2501866106.py:6: DtypeWarning: Columns (0) have mixed types. Specify dtype option on import or set low_memory=False.\n",
      "  ds = pd.read_csv(file.path)\n"
     ]
    },
    {
     "name": "stdout",
     "output_type": "stream",
     "text": [
      "Saving 2020_111-qfht-0.csv\n",
      "Saving 2020_111-qfht-1.csv\n",
      "Saving 2020_111-qfht-2.csv\n",
      "Saving 2020_111-qfht-3.csv\n",
      "Saving 2020_111-qfht-0.csv\n",
      "Saving 2020_111-qfht-1.csv\n",
      "Saving 2020_111-qfht-2.csv\n",
      "Saving 2020_111-qfht-3.csv\n",
      "Saving 2020_111-qfht-0.csv\n",
      "Saving 2020_111-qfht-1.csv\n",
      "Saving 2020_111-qfht-2.csv\n",
      "Saving 2020_111-qfht-3.csv\n",
      "Saving 2020_111-qfht-4.csv\n",
      "Saving 2020_111-qfht-5.csv\n",
      "Saving 2020_111-qfht-6.csv\n",
      "Saving 2020_111-qfht-7.csv\n",
      "Saving 2020_111-qfht-8.csv\n",
      "Saving 2020_111-qfht-9.csv\n",
      "Saving 2020_111-qfht-10.csv\n",
      "Saving 2020_111-qfht-0.csv\n",
      "Saving 2020_111-qfht-1.csv\n",
      "Processing dataset/b_parsed_20m/2019_49.csv\n",
      "Saving 2019_49-fh-0.csv\n",
      "Saving 2019_49-fh-1.csv\n",
      "Saving 2019_49-fh-0.csv\n",
      "Processing dataset/b_parsed_20m/2019_56.csv\n",
      "Saving 2019_56-f-0.csv\n",
      "Saving 2019_56-f-1.csv\n",
      "Processing dataset/b_parsed_20m/2020_85.csv\n",
      "Saving 2020_85-qh-0.csv\n",
      "Saving 2020_85-qh-0.csv\n",
      "Saving 2020_85-qh-1.csv\n",
      "Processing dataset/b_parsed_20m/2019_58.csv\n",
      "Saving 2019_58-h-0.csv\n",
      "Saving 2019_58-h-1.csv\n",
      "Processing dataset/b_parsed_20m/2019_5.csv\n",
      "Saving 2019_5-f-0.csv\n",
      "Saving 2019_5-f-1.csv\n",
      "Processing dataset/b_parsed_20m/2020_48.csv\n",
      "Saving 2020_48-sftd-0.csv\n",
      "Saving 2020_48-sftd-0.csv\n",
      "Saving 2020_48-sftd-0.csv\n",
      "Saving 2020_48-sftd-0.csv\n",
      "Processing dataset/b_parsed_20m/2020_119.csv\n",
      "Saving 2020_119-sft-0.csv\n",
      "Saving 2020_119-sft-0.csv\n",
      "Saving 2020_119-sft-0.csv\n",
      "Processing dataset/b_parsed_20m/2020_17.csv\n",
      "Saving 2020_17-fh-0.csv\n",
      "Saving 2020_17-fh-0.csv\n",
      "Saving 2020_17-fh-1.csv\n",
      "Saving 2020_17-fh-2.csv\n",
      "Saving 2020_17-fh-3.csv\n",
      "Saving 2020_17-fh-4.csv\n",
      "Saving 2020_17-fh-5.csv\n",
      "Processing dataset/b_parsed_20m/2020_101.csv\n",
      "Processing dataset/b_parsed_20m/2020_105.csv\n",
      "Saving 2020_105-std-0.csv\n",
      "Saving 2020_105-std-0.csv\n",
      "Saving 2020_105-std-0.csv\n",
      "Processing dataset/b_parsed_20m/2020_60.csv\n"
     ]
    },
    {
     "name": "stderr",
     "output_type": "stream",
     "text": [
      "/var/folders/8g/gbqqwv9j035d81xb9dz_s6kw0000gn/T/ipykernel_3399/2501866106.py:6: DtypeWarning: Columns (0) have mixed types. Specify dtype option on import or set low_memory=False.\n",
      "  ds = pd.read_csv(file.path)\n"
     ]
    },
    {
     "name": "stdout",
     "output_type": "stream",
     "text": [
      "Saving 2020_60-h-0.csv\n",
      "Saving 2020_60-h-1.csv\n",
      "Saving 2020_60-h-2.csv\n",
      "Saving 2020_60-h-3.csv\n",
      "Saving 2020_60-h-4.csv\n",
      "Saving 2020_60-h-5.csv\n",
      "Saving 2020_60-h-6.csv\n",
      "Processing dataset/b_parsed_20m/2020_90.csv\n",
      "Saving 2020_90-fht-0.csv\n",
      "Saving 2020_90-fht-1.csv\n",
      "Saving 2020_90-fht-2.csv\n",
      "Saving 2020_90-fht-3.csv\n",
      "Saving 2020_90-fht-4.csv\n",
      "Saving 2020_90-fht-5.csv\n",
      "Saving 2020_90-fht-0.csv\n",
      "Saving 2020_90-fht-1.csv\n",
      "Saving 2020_90-fht-0.csv\n",
      "Saving 2020_90-fht-1.csv\n",
      "Saving 2020_90-fht-2.csv\n",
      "Processing dataset/b_parsed_20m/2020_76.csv\n",
      "Saving 2020_76-sqh-0.csv\n",
      "Saving 2020_76-sqh-0.csv\n",
      "Saving 2020_76-sqh-0.csv\n",
      "Processing dataset/b_parsed_20m/2020_69.csv\n",
      "Saving 2020_69-f-0.csv\n",
      "Saving 2020_69-f-1.csv\n",
      "Processing dataset/b_parsed_20m/2020_112.csv\n"
     ]
    },
    {
     "name": "stderr",
     "output_type": "stream",
     "text": [
      "/var/folders/8g/gbqqwv9j035d81xb9dz_s6kw0000gn/T/ipykernel_3399/2501866106.py:6: DtypeWarning: Columns (0) have mixed types. Specify dtype option on import or set low_memory=False.\n",
      "  ds = pd.read_csv(file.path)\n"
     ]
    },
    {
     "name": "stdout",
     "output_type": "stream",
     "text": [
      "Saving 2020_112-sqfhd-0.csv\n",
      "Saving 2020_112-sqfhd-0.csv\n",
      "Saving 2020_112-sqfhd-1.csv\n",
      "Saving 2020_112-sqfhd-2.csv\n",
      "Saving 2020_112-sqfhd-0.csv\n",
      "Saving 2020_112-sqfhd-1.csv\n",
      "Saving 2020_112-sqfhd-2.csv\n",
      "Saving 2020_112-sqfhd-3.csv\n",
      "Saving 2020_112-sqfhd-0.csv\n",
      "Saving 2020_112-sqfhd-0.csv\n",
      "Processing dataset/b_parsed_20m/2020_109.csv\n",
      "Saving 2020_109-qfht-0.csv\n",
      "Saving 2020_109-qfht-1.csv\n",
      "Saving 2020_109-qfht-0.csv\n",
      "Saving 2020_109-qfht-1.csv\n",
      "Saving 2020_109-qfht-2.csv\n",
      "Saving 2020_109-qfht-3.csv\n",
      "Saving 2020_109-qfht-4.csv\n",
      "Saving 2020_109-qfht-5.csv\n",
      "Saving 2020_109-qfht-6.csv\n",
      "Saving 2020_109-qfht-7.csv\n",
      "Saving 2020_109-qfht-0.csv\n",
      "Saving 2020_109-qfht-0.csv\n",
      "Processing dataset/b_parsed_20m/2020_123.csv\n",
      "Saving 2020_123-f-0.csv\n",
      "Saving 2020_123-f-1.csv\n",
      "Saving 2020_123-f-2.csv\n",
      "Saving 2020_123-f-3.csv\n",
      "Saving 2020_123-f-4.csv\n",
      "Processing dataset/b_parsed_20m/2020_21.csv\n"
     ]
    },
    {
     "name": "stderr",
     "output_type": "stream",
     "text": [
      "/var/folders/8g/gbqqwv9j035d81xb9dz_s6kw0000gn/T/ipykernel_3399/2501866106.py:6: DtypeWarning: Columns (0) have mixed types. Specify dtype option on import or set low_memory=False.\n",
      "  ds = pd.read_csv(file.path)\n"
     ]
    },
    {
     "name": "stdout",
     "output_type": "stream",
     "text": [
      "Saving 2020_21-qfh-0.csv\n",
      "Saving 2020_21-qfh-1.csv\n",
      "Saving 2020_21-qfh-0.csv\n",
      "Saving 2020_21-qfh-1.csv\n",
      "Saving 2020_21-qfh-2.csv\n",
      "Saving 2020_21-qfh-0.csv\n",
      "Saving 2020_21-qfh-1.csv\n",
      "Saving 2020_21-qfh-2.csv\n",
      "Saving 2020_21-qfh-3.csv\n",
      "Processing dataset/b_parsed_20m/2020_97.csv\n",
      "Saving 2020_97-ft-0.csv\n",
      "Saving 2020_97-ft-0.csv\n",
      "Processing dataset/b_parsed_20m/2020_80.csv\n",
      "Processing dataset/b_parsed_20m/2020_96.csv\n",
      "Saving 2020_96-h-0.csv\n",
      "Saving 2020_96-h-1.csv\n",
      "Processing dataset/b_parsed_20m/2020_66.csv\n",
      "Skipping dataset/b_parsed_20m/2020_66.csv: No temp\n",
      "Processing dataset/b_parsed_20m/2020_36.csv\n",
      "Saving 2020_36-sft-0.csv\n",
      "Saving 2020_36-sft-0.csv\n",
      "Saving 2020_36-sft-0.csv\n",
      "Processing dataset/b_parsed_20m/2020_128.csv\n",
      "Saving 2020_128-s-0.csv\n",
      "Processing dataset/b_parsed_20m/2020_58.csv\n",
      "Saving 2020_58-fht-0.csv\n",
      "Saving 2020_58-fht-1.csv\n",
      "Saving 2020_58-fht-2.csv\n",
      "Saving 2020_58-fht-3.csv\n",
      "Saving 2020_58-fht-4.csv\n",
      "Saving 2020_58-fht-5.csv\n",
      "Saving 2020_58-fht-0.csv\n",
      "Saving 2020_58-fht-1.csv\n",
      "Saving 2020_58-fht-2.csv\n",
      "Saving 2020_58-fht-3.csv\n",
      "Saving 2020_58-fht-4.csv\n",
      "Saving 2020_58-fht-5.csv\n",
      "Saving 2020_58-fht-6.csv\n",
      "Saving 2020_58-fht-7.csv\n",
      "Saving 2020_58-fht-0.csv\n",
      "Saving 2020_58-fht-1.csv\n",
      "Processing dataset/b_parsed_20m/2020_72.csv\n",
      "Saving 2020_72-fh-0.csv\n",
      "Saving 2020_72-fh-1.csv\n",
      "Saving 2020_72-fh-2.csv\n",
      "Saving 2020_72-fh-3.csv\n",
      "Saving 2020_72-fh-4.csv\n",
      "Saving 2020_72-fh-5.csv\n",
      "Saving 2020_72-fh-6.csv\n",
      "Saving 2020_72-fh-7.csv\n",
      "Saving 2020_72-fh-8.csv\n",
      "Saving 2020_72-fh-0.csv\n",
      "Saving 2020_72-fh-1.csv\n",
      "Saving 2020_72-fh-2.csv\n",
      "Saving 2020_72-fh-3.csv\n",
      "Saving 2020_72-fh-4.csv\n",
      "Processing dataset/b_parsed_20m/2020_107.csv\n",
      "Saving 2020_107-ft-0.csv\n",
      "Saving 2020_107-ft-1.csv\n",
      "Saving 2020_107-ft-2.csv\n",
      "Saving 2020_107-ft-0.csv\n",
      "Saving 2020_107-ft-1.csv\n",
      "Saving 2020_107-ft-2.csv\n",
      "Processing dataset/b_parsed_20m/2020_27.csv\n"
     ]
    },
    {
     "name": "stderr",
     "output_type": "stream",
     "text": [
      "/var/folders/8g/gbqqwv9j035d81xb9dz_s6kw0000gn/T/ipykernel_3399/2501866106.py:6: DtypeWarning: Columns (0) have mixed types. Specify dtype option on import or set low_memory=False.\n",
      "  ds = pd.read_csv(file.path)\n"
     ]
    },
    {
     "name": "stdout",
     "output_type": "stream",
     "text": [
      "Saving 2020_27-ft-0.csv\n",
      "Saving 2020_27-ft-1.csv\n",
      "Saving 2020_27-ft-0.csv\n",
      "Saving 2020_27-ft-1.csv\n",
      "Saving 2020_27-ft-2.csv\n",
      "Processing dataset/b_parsed_20m/2021_88.csv\n",
      "Saving 2021_88-fht-0.csv\n",
      "Saving 2021_88-fht-1.csv\n",
      "Saving 2021_88-fht-0.csv\n",
      "Saving 2021_88-fht-1.csv\n",
      "Saving 2021_88-fht-0.csv\n",
      "Saving 2021_88-fht-1.csv\n",
      "Processing dataset/b_parsed_20m/2021_49.csv\n"
     ]
    },
    {
     "name": "stderr",
     "output_type": "stream",
     "text": [
      "/var/folders/8g/gbqqwv9j035d81xb9dz_s6kw0000gn/T/ipykernel_3399/2501866106.py:6: DtypeWarning: Columns (0) have mixed types. Specify dtype option on import or set low_memory=False.\n",
      "  ds = pd.read_csv(file.path)\n"
     ]
    },
    {
     "name": "stdout",
     "output_type": "stream",
     "text": [
      "Saving 2021_49-h-0.csv\n",
      "Processing dataset/b_parsed_20m/2021_107.csv\n"
     ]
    },
    {
     "name": "stderr",
     "output_type": "stream",
     "text": [
      "/var/folders/8g/gbqqwv9j035d81xb9dz_s6kw0000gn/T/ipykernel_3399/2501866106.py:6: DtypeWarning: Columns (0) have mixed types. Specify dtype option on import or set low_memory=False.\n",
      "  ds = pd.read_csv(file.path)\n"
     ]
    },
    {
     "name": "stdout",
     "output_type": "stream",
     "text": [
      "Saving 2021_107-h-0.csv\n",
      "Saving 2021_107-h-1.csv\n",
      "Processing dataset/b_parsed_20m/2021_97.csv\n",
      "Skipping dataset/b_parsed_20m/2021_97.csv: No temp\n",
      "Processing dataset/b_parsed_20m/2021_58.csv\n"
     ]
    },
    {
     "name": "stderr",
     "output_type": "stream",
     "text": [
      "/var/folders/8g/gbqqwv9j035d81xb9dz_s6kw0000gn/T/ipykernel_3399/2501866106.py:6: DtypeWarning: Columns (0) have mixed types. Specify dtype option on import or set low_memory=False.\n",
      "  ds = pd.read_csv(file.path)\n"
     ]
    },
    {
     "name": "stdout",
     "output_type": "stream",
     "text": [
      "Saving 2021_58-h-0.csv\n",
      "Saving 2021_58-h-1.csv\n",
      "Saving 2021_58-h-2.csv\n",
      "Processing dataset/b_parsed_20m/2021_126.csv\n",
      "Saving 2021_126-fht-0.csv\n",
      "Saving 2021_126-fht-0.csv\n",
      "Saving 2021_126-fht-1.csv\n",
      "Saving 2021_126-fht-0.csv\n",
      "Processing dataset/b_parsed_20m/2021_141.csv\n",
      "Saving 2021_141-ht-0.csv\n",
      "Saving 2021_141-ht-0.csv\n",
      "Processing dataset/b_parsed_20m/2021_136.csv\n",
      "Saving 2021_136-h-0.csv\n",
      "Processing dataset/b_parsed_20m/2021_123.csv\n"
     ]
    },
    {
     "name": "stderr",
     "output_type": "stream",
     "text": [
      "/var/folders/8g/gbqqwv9j035d81xb9dz_s6kw0000gn/T/ipykernel_3399/2501866106.py:6: DtypeWarning: Columns (0) have mixed types. Specify dtype option on import or set low_memory=False.\n",
      "  ds = pd.read_csv(file.path)\n"
     ]
    },
    {
     "name": "stdout",
     "output_type": "stream",
     "text": [
      "Saving 2021_123-sqft-0.csv\n",
      "Saving 2021_123-sqft-1.csv\n",
      "Saving 2021_123-sqft-0.csv\n",
      "Saving 2021_123-sqft-1.csv\n",
      "Saving 2021_123-sqft-0.csv\n",
      "Saving 2021_123-sqft-1.csv\n",
      "Saving 2021_123-sqft-2.csv\n",
      "Saving 2021_123-sqft-3.csv\n",
      "Saving 2021_123-sqft-0.csv\n",
      "Saving 2021_123-sqft-1.csv\n",
      "Processing dataset/b_parsed_20m/2021_69.csv\n",
      "Saving 2021_69-sqfh-0.csv\n",
      "Saving 2021_69-sqfh-0.csv\n",
      "Saving 2021_69-sqfh-0.csv\n",
      "Saving 2021_69-sqfh-0.csv\n",
      "Saving 2021_69-sqfh-1.csv\n",
      "Processing dataset/b_parsed_20m/2021_118.csv\n",
      "Saving 2021_118-s-0.csv\n",
      "Saving 2021_118-s-1.csv\n",
      "Processing dataset/b_parsed_20m/2021_57.csv\n"
     ]
    },
    {
     "name": "stderr",
     "output_type": "stream",
     "text": [
      "/var/folders/8g/gbqqwv9j035d81xb9dz_s6kw0000gn/T/ipykernel_3399/2501866106.py:6: DtypeWarning: Columns (0) have mixed types. Specify dtype option on import or set low_memory=False.\n",
      "  ds = pd.read_csv(file.path)\n"
     ]
    },
    {
     "name": "stdout",
     "output_type": "stream",
     "text": [
      "Saving 2021_57-d-0.csv\n",
      "Processing dataset/b_parsed_20m/2021_101.csv\n"
     ]
    },
    {
     "name": "stderr",
     "output_type": "stream",
     "text": [
      "/var/folders/8g/gbqqwv9j035d81xb9dz_s6kw0000gn/T/ipykernel_3399/2501866106.py:6: DtypeWarning: Columns (0) have mixed types. Specify dtype option on import or set low_memory=False.\n",
      "  ds = pd.read_csv(file.path)\n"
     ]
    },
    {
     "name": "stdout",
     "output_type": "stream",
     "text": [
      "Saving 2021_101-sq-0.csv\n",
      "Saving 2021_101-sq-0.csv\n",
      "Processing dataset/b_parsed_20m/2021_36.csv\n",
      "Saving 2021_36-s-0.csv\n",
      "Saving 2021_36-s-1.csv\n",
      "Saving 2021_36-s-2.csv\n",
      "Processing dataset/b_parsed_20m/2021_111.csv\n",
      "Saving 2021_111-f-0.csv\n",
      "Processing dataset/b_parsed_20m/2021_134.csv\n",
      "Skipping dataset/b_parsed_20m/2021_134.csv: No temp\n",
      "Processing dataset/b_parsed_20m/2021_72.csv\n",
      "Saving 2021_72-fhd-0.csv\n",
      "Saving 2021_72-fhd-0.csv\n",
      "Saving 2021_72-fhd-1.csv\n",
      "Saving 2021_72-fhd-2.csv\n",
      "Saving 2021_72-fhd-3.csv\n",
      "Saving 2021_72-fhd-0.csv\n",
      "Processing dataset/b_parsed_20m/2021_86.csv\n"
     ]
    },
    {
     "name": "stderr",
     "output_type": "stream",
     "text": [
      "/var/folders/8g/gbqqwv9j035d81xb9dz_s6kw0000gn/T/ipykernel_3399/2501866106.py:6: DtypeWarning: Columns (0) have mixed types. Specify dtype option on import or set low_memory=False.\n",
      "  ds = pd.read_csv(file.path)\n"
     ]
    },
    {
     "name": "stdout",
     "output_type": "stream",
     "text": [
      "Saving 2021_86-sf-0.csv\n",
      "Saving 2021_86-sf-1.csv\n",
      "Saving 2021_86-sf-0.csv\n",
      "Saving 2021_86-sf-1.csv\n",
      "Processing dataset/b_parsed_20m/2021_129.csv\n",
      "Skipping dataset/b_parsed_20m/2021_129.csv: No temp\n",
      "Processing dataset/b_parsed_20m/2021_21.csv\n",
      "Saving 2021_21-qf-0.csv\n",
      "Saving 2021_21-qf-1.csv\n",
      "Saving 2021_21-qf-0.csv\n",
      "Saving 2021_21-qf-1.csv\n",
      "Saving 2021_21-qf-2.csv\n",
      "Saving 2021_21-qf-3.csv\n",
      "Processing dataset/b_parsed_20m/2021_26.csv\n",
      "Saving 2021_26-sqfht-0.csv\n",
      "Saving 2021_26-sqfht-1.csv\n",
      "Saving 2021_26-sqfht-0.csv\n",
      "Saving 2021_26-sqfht-1.csv\n",
      "Saving 2021_26-sqfht-2.csv\n",
      "Saving 2021_26-sqfht-0.csv\n",
      "Saving 2021_26-sqfht-1.csv\n",
      "Saving 2021_26-sqfht-2.csv\n",
      "Saving 2021_26-sqfht-3.csv\n",
      "Saving 2021_26-sqfht-4.csv\n",
      "Saving 2021_26-sqfht-0.csv\n",
      "Saving 2021_26-sqfht-1.csv\n",
      "Saving 2021_26-sqfht-2.csv\n",
      "Saving 2021_26-sqfht-3.csv\n",
      "Saving 2021_26-sqfht-0.csv\n",
      "Saving 2021_26-sqfht-1.csv\n",
      "Saving 2021_26-sqfht-2.csv\n",
      "Processing dataset/b_parsed_20m/2021_135.csv\n",
      "Saving 2021_135-qf-0.csv\n",
      "Saving 2021_135-qf-1.csv\n",
      "Saving 2021_135-qf-2.csv\n",
      "Saving 2021_135-qf-0.csv\n",
      "Saving 2021_135-qf-1.csv\n",
      "Saving 2021_135-qf-2.csv\n",
      "Saving 2021_135-qf-3.csv\n",
      "Saving 2021_135-qf-4.csv\n",
      "Processing dataset/b_parsed_20m/2022_112.csv\n",
      "Saving 2022_112-qh-0.csv\n",
      "Saving 2022_112-qh-0.csv\n",
      "Saving 2022_112-qh-1.csv\n",
      "Saving 2022_112-qh-2.csv\n",
      "Saving 2022_112-qh-3.csv\n",
      "Saving 2022_112-qh-4.csv\n",
      "Processing dataset/b_parsed_20m/2022_135.csv\n"
     ]
    },
    {
     "name": "stderr",
     "output_type": "stream",
     "text": [
      "/var/folders/8g/gbqqwv9j035d81xb9dz_s6kw0000gn/T/ipykernel_3399/2501866106.py:6: DtypeWarning: Columns (0) have mixed types. Specify dtype option on import or set low_memory=False.\n",
      "  ds = pd.read_csv(file.path)\n"
     ]
    },
    {
     "name": "stdout",
     "output_type": "stream",
     "text": [
      "Saving 2022_135-qfht-0.csv\n",
      "Saving 2022_135-qfht-1.csv\n",
      "Saving 2022_135-qfht-2.csv\n",
      "Saving 2022_135-qfht-3.csv\n",
      "Saving 2022_135-qfht-4.csv\n",
      "Saving 2022_135-qfht-5.csv\n",
      "Saving 2022_135-qfht-6.csv\n",
      "Saving 2022_135-qfht-7.csv\n",
      "Saving 2022_135-qfht-0.csv\n",
      "Saving 2022_135-qfht-1.csv\n",
      "Saving 2022_135-qfht-2.csv\n",
      "Saving 2022_135-qfht-3.csv\n",
      "Saving 2022_135-qfht-4.csv\n",
      "Saving 2022_135-qfht-0.csv\n",
      "Saving 2022_135-qfht-1.csv\n",
      "Saving 2022_135-qfht-0.csv\n",
      "Saving 2022_135-qfht-1.csv\n",
      "Saving 2022_135-qfht-2.csv\n",
      "Processing dataset/b_parsed_20m/2022_17.csv\n",
      "Skipping dataset/b_parsed_20m/2022_17.csv: No temp\n",
      "Processing dataset/b_parsed_20m/2022_26.csv\n",
      "Saving 2022_26-fht-0.csv\n",
      "Saving 2022_26-fht-1.csv\n",
      "Saving 2022_26-fht-2.csv\n",
      "Saving 2022_26-fht-3.csv\n",
      "Saving 2022_26-fht-4.csv\n",
      "Saving 2022_26-fht-5.csv\n",
      "Saving 2022_26-fht-0.csv\n",
      "Saving 2022_26-fht-1.csv\n",
      "Saving 2022_26-fht-0.csv\n",
      "Saving 2022_26-fht-1.csv\n",
      "Saving 2022_26-fht-2.csv\n",
      "Saving 2022_26-fht-3.csv\n",
      "Saving 2022_26-fht-4.csv\n",
      "Saving 2022_26-fht-5.csv\n",
      "Saving 2022_26-fht-6.csv\n",
      "Processing dataset/b_parsed_20m/2022_49.csv\n"
     ]
    },
    {
     "name": "stderr",
     "output_type": "stream",
     "text": [
      "/var/folders/8g/gbqqwv9j035d81xb9dz_s6kw0000gn/T/ipykernel_3399/2501866106.py:6: DtypeWarning: Columns (0) have mixed types. Specify dtype option on import or set low_memory=False.\n",
      "  ds = pd.read_csv(file.path)\n"
     ]
    },
    {
     "name": "stdout",
     "output_type": "stream",
     "text": [
      "Skipping dataset/b_parsed_20m/2022_49.csv: No temp\n",
      "Processing dataset/b_parsed_20m/2022_58.csv\n",
      "Saving 2022_58-h-0.csv\n",
      "Saving 2022_58-h-1.csv\n",
      "Saving 2022_58-h-2.csv\n",
      "Processing dataset/b_parsed_20m/2022_123.csv\n"
     ]
    },
    {
     "name": "stderr",
     "output_type": "stream",
     "text": [
      "/var/folders/8g/gbqqwv9j035d81xb9dz_s6kw0000gn/T/ipykernel_3399/2501866106.py:6: DtypeWarning: Columns (0) have mixed types. Specify dtype option on import or set low_memory=False.\n",
      "  ds = pd.read_csv(file.path)\n"
     ]
    },
    {
     "name": "stdout",
     "output_type": "stream",
     "text": [
      "Saving 2022_123-f-0.csv\n",
      "Saving 2022_123-f-1.csv\n",
      "Saving 2022_123-f-2.csv\n",
      "Processing dataset/b_parsed_20m/2022_101.csv\n"
     ]
    },
    {
     "name": "stderr",
     "output_type": "stream",
     "text": [
      "/var/folders/8g/gbqqwv9j035d81xb9dz_s6kw0000gn/T/ipykernel_3399/2501866106.py:6: DtypeWarning: Columns (0) have mixed types. Specify dtype option on import or set low_memory=False.\n",
      "  ds = pd.read_csv(file.path)\n"
     ]
    },
    {
     "name": "stdout",
     "output_type": "stream",
     "text": [
      "Saving 2022_101-sq-0.csv\n",
      "Saving 2022_101-sq-0.csv\n",
      "Processing dataset/b_parsed_20m/2022_152.csv\n",
      "Skipping dataset/b_parsed_20m/2022_152.csv: No temp\n",
      "Processing dataset/b_parsed_20m/parsed\n",
      "Processing dataset/b_parsed_20m/._parsed\n"
     ]
    },
    {
     "name": "stderr",
     "output_type": "stream",
     "text": [
      "/var/folders/8g/gbqqwv9j035d81xb9dz_s6kw0000gn/T/ipykernel_3399/2501866106.py:6: DtypeWarning: Columns (0) have mixed types. Specify dtype option on import or set low_memory=False.\n",
      "  ds = pd.read_csv(file.path)\n"
     ]
    }
   ],
   "source": [
    "for file in files:\n",
    "    print(f\"Processing {file.path}\")\n",
    "    if file.is_dir():\n",
    "        continue\n",
    "    try:\n",
    "        ds = pd.read_csv(file.path)\n",
    "    except:\n",
    "        continue\n",
    "\n",
    "    first = ds.iloc[0]\n",
    "    \n",
    "    if math.isnan(first['t_i_1']) or math.isnan(first['t_i_2']) or math.isnan(first['t_i_2']) or math.isnan(first['h']) or math.isnan(first['weight_kg']):\n",
    "        print(f\"Skipping {file.path}: No temp\")\n",
    "        continue\n",
    "\n",
    "    swarming_indexes = events.get_event_indexes(ds, 'swarming.next.dif')\n",
    "    queencell_indexes = events.get_event_indexes(ds, 'queencell.next.dif')\n",
    "    feeding_indexes = events.get_event_indexes(ds, 'feeding.next.dif')\n",
    "    honey_indexes = events.get_event_indexes(ds, 'honey.next.dif')\n",
    "    treatment_indexes = events.get_event_indexes(ds, 'treatment.next.dif')\n",
    "    died_indexes = events.get_event_indexes(ds, 'died.next.dif')\n",
    "\n",
    "\n",
    "    if ds['h'].isnull().any() or ds['weight_kg'].isnull().any() or ds['temp_mid'].isnull().any():\n",
    "        print(f\"Skipping {file.path}: NaNs\")\n",
    "\n",
    "    if MODE == '20m':\n",
    "        offsets = 80\n",
    "\n",
    "        \n",
    "    export_indexes_slice(ds, file.path, swarming_indexes, offsets, 'swarming')\n",
    "    export_indexes_slice(ds, file.path, queencell_indexes, offsets, 'queencell')\n",
    "    export_indexes_slice(ds, file.path, feeding_indexes, offsets, 'feeding')\n",
    "    export_indexes_slice(ds, file.path, honey_indexes, offsets, 'honey')\n",
    "    export_indexes_slice(ds, file.path, treatment_indexes, offsets, 'treatment')\n",
    "    export_indexes_slice(ds, file.path, died_indexes, offsets, 'died')"
   ]
  },
  {
   "cell_type": "code",
   "execution_count": null,
   "metadata": {},
   "outputs": [],
   "source": []
  }
 ],
 "metadata": {
  "kernelspec": {
   "display_name": "tf",
   "language": "python",
   "name": "python3"
  },
  "language_info": {
   "codemirror_mode": {
    "name": "ipython",
    "version": 3
   },
   "file_extension": ".py",
   "mimetype": "text/x-python",
   "name": "python",
   "nbconvert_exporter": "python",
   "pygments_lexer": "ipython3",
   "version": "3.12.4"
  }
 },
 "nbformat": 4,
 "nbformat_minor": 2
}
